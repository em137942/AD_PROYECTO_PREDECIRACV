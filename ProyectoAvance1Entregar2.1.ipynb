{
 "cells": [
  {
   "cell_type": "markdown",
   "id": "b005cc5f",
   "metadata": {},
   "source": [
    "#                         COLEGIO DE CIENCIAS E INGENIERIA\n",
    "##                                            INGENIERIA INDUSTRIAL\n",
    "\n",
    "###                                                        IIN-3007 Analitica de Datos\n",
    "\n",
    "###                                                                     NRC: 2209\n",
    "\n",
    "\n",
    "###                                               NOMBRE DEL ENTREGABLE: Avance 1\n",
    "\n",
    "###                                    SEMESTRE: Segundo Semestre 2023-2024 (202320)\n",
    "\n",
    "\n",
    "####           NOMBRE(S) Y CÓDIGO DE ESTUDIANTE(S): Emilia Pavón 00323300, Belén Carrasco 00323335, Emily Alta 00324764\n",
    "####                                                     PROFESOR(A): María Gabriela Baldeón Calisto\n",
    "####                                                         FECHA DE ENTREGA: 01 de abril 2024"
   ]
  },
  {
   "cell_type": "markdown",
   "id": "f73d0b88",
   "metadata": {},
   "source": [
    "#### Importamos las librerias necesarias"
   ]
  },
  {
   "cell_type": "code",
   "execution_count": 1,
   "id": "1d66f8bf",
   "metadata": {},
   "outputs": [
    {
     "name": "stdout",
     "output_type": "stream",
     "text": [
      "Requirement already satisfied: dmba in c:\\users\\emilia\\anaconda3\\lib\\site-packages (0.2.4)\n",
      "Requirement already satisfied: scikit-learn in c:\\users\\emilia\\anaconda3\\lib\\site-packages (from dmba) (1.4.2)\n",
      "Requirement already satisfied: matplotlib in c:\\users\\emilia\\anaconda3\\lib\\site-packages (from dmba) (3.4.3)\n",
      "Requirement already satisfied: pandas in c:\\users\\emilia\\anaconda3\\lib\\site-packages (from dmba) (1.3.4)\n",
      "Requirement already satisfied: numpy in c:\\users\\emilia\\anaconda3\\lib\\site-packages (from dmba) (1.20.3)\n",
      "Requirement already satisfied: scipy in c:\\users\\emilia\\anaconda3\\lib\\site-packages (from dmba) (1.7.1)\n",
      "Requirement already satisfied: graphviz in c:\\users\\emilia\\anaconda3\\lib\\site-packages (from dmba) (0.20.3)\n",
      "Requirement already satisfied: cycler>=0.10 in c:\\users\\emilia\\anaconda3\\lib\\site-packages (from matplotlib->dmba) (0.10.0)\n",
      "Requirement already satisfied: kiwisolver>=1.0.1 in c:\\users\\emilia\\anaconda3\\lib\\site-packages (from matplotlib->dmba) (1.3.1)\n",
      "Requirement already satisfied: pillow>=6.2.0 in c:\\users\\emilia\\anaconda3\\lib\\site-packages (from matplotlib->dmba) (8.4.0)\n",
      "Requirement already satisfied: pyparsing>=2.2.1 in c:\\users\\emilia\\anaconda3\\lib\\site-packages (from matplotlib->dmba) (3.0.4)\n",
      "Requirement already satisfied: python-dateutil>=2.7 in c:\\users\\emilia\\anaconda3\\lib\\site-packages (from matplotlib->dmba) (2.8.2)\n",
      "Requirement already satisfied: six in c:\\users\\emilia\\anaconda3\\lib\\site-packages (from cycler>=0.10->matplotlib->dmba) (1.16.0)\n",
      "Requirement already satisfied: pytz>=2017.3 in c:\\users\\emilia\\anaconda3\\lib\\site-packages (from pandas->dmba) (2021.3)\n",
      "Requirement already satisfied: joblib>=1.2.0 in c:\\users\\emilia\\anaconda3\\lib\\site-packages (from scikit-learn->dmba) (1.4.0)\n",
      "Requirement already satisfied: threadpoolctl>=2.0.0 in c:\\users\\emilia\\anaconda3\\lib\\site-packages (from scikit-learn->dmba) (2.2.0)\n"
     ]
    }
   ],
   "source": [
    "#Importar todas las librerias necesarias\n",
    "from pathlib import Path\n",
    "import numpy as np\n",
    "import pandas as pd\n",
    "from sklearn.model_selection import train_test_split\n",
    "from sklearn.metrics import r2_score\n",
    "from sklearn.linear_model import LinearRegression\n",
    "\n",
    "import matplotlib.pylab as plt\n",
    "%matplotlib inline\n",
    "from pathlib import Path\n",
    "!pip install dmba\n",
    "import pandas as pd\n",
    "from dmba import regressionSummary\n",
    "import statsmodels.api as sm"
   ]
  },
  {
   "cell_type": "markdown",
   "id": "0228bce8",
   "metadata": {},
   "source": [
    "### Importamos la data"
   ]
  },
  {
   "cell_type": "code",
   "execution_count": 2,
   "id": "0a8df58c",
   "metadata": {
    "scrolled": true
   },
   "outputs": [
    {
     "data": {
      "text/html": [
       "<div>\n",
       "<style scoped>\n",
       "    .dataframe tbody tr th:only-of-type {\n",
       "        vertical-align: middle;\n",
       "    }\n",
       "\n",
       "    .dataframe tbody tr th {\n",
       "        vertical-align: top;\n",
       "    }\n",
       "\n",
       "    .dataframe thead th {\n",
       "        text-align: right;\n",
       "    }\n",
       "</style>\n",
       "<table border=\"1\" class=\"dataframe\">\n",
       "  <thead>\n",
       "    <tr style=\"text-align: right;\">\n",
       "      <th></th>\n",
       "      <th>Hypertension</th>\n",
       "      <th>Heart Disease</th>\n",
       "      <th>Married</th>\n",
       "      <th>Work</th>\n",
       "      <th>Residence</th>\n",
       "      <th>Avg_glucose_level</th>\n",
       "      <th>Bmi</th>\n",
       "      <th>Smoking</th>\n",
       "      <th>Gender</th>\n",
       "      <th>Age</th>\n",
       "      <th>Income</th>\n",
       "      <th>Children</th>\n",
       "      <th>Stroke</th>\n",
       "    </tr>\n",
       "  </thead>\n",
       "  <tbody>\n",
       "    <tr>\n",
       "      <th>0</th>\n",
       "      <td>0</td>\n",
       "      <td>1</td>\n",
       "      <td>Yes</td>\n",
       "      <td>Private</td>\n",
       "      <td>Urban</td>\n",
       "      <td>228.69</td>\n",
       "      <td>36.6</td>\n",
       "      <td>formerly smoked</td>\n",
       "      <td>Male</td>\n",
       "      <td>67.0</td>\n",
       "      <td>725445.0</td>\n",
       "      <td>3</td>\n",
       "      <td>1</td>\n",
       "    </tr>\n",
       "    <tr>\n",
       "      <th>1</th>\n",
       "      <td>0</td>\n",
       "      <td>0</td>\n",
       "      <td>Yes</td>\n",
       "      <td>Self-employed</td>\n",
       "      <td>Rural</td>\n",
       "      <td>202.21</td>\n",
       "      <td>NaN</td>\n",
       "      <td>never smoked</td>\n",
       "      <td>Female</td>\n",
       "      <td>61.0</td>\n",
       "      <td>235422.0</td>\n",
       "      <td>0</td>\n",
       "      <td>1</td>\n",
       "    </tr>\n",
       "    <tr>\n",
       "      <th>2</th>\n",
       "      <td>0</td>\n",
       "      <td>1</td>\n",
       "      <td>Yes</td>\n",
       "      <td>Private</td>\n",
       "      <td>Rural</td>\n",
       "      <td>105.92</td>\n",
       "      <td>32.5</td>\n",
       "      <td>never smoked</td>\n",
       "      <td>Male</td>\n",
       "      <td>80.0</td>\n",
       "      <td>278207.0</td>\n",
       "      <td>3</td>\n",
       "      <td>1</td>\n",
       "    </tr>\n",
       "    <tr>\n",
       "      <th>3</th>\n",
       "      <td>0</td>\n",
       "      <td>0</td>\n",
       "      <td>Yes</td>\n",
       "      <td>Private</td>\n",
       "      <td>Urban</td>\n",
       "      <td>171.23</td>\n",
       "      <td>34.4</td>\n",
       "      <td>smokes</td>\n",
       "      <td>Female</td>\n",
       "      <td>49.0</td>\n",
       "      <td>22613.0</td>\n",
       "      <td>1</td>\n",
       "      <td>1</td>\n",
       "    </tr>\n",
       "    <tr>\n",
       "      <th>4</th>\n",
       "      <td>1</td>\n",
       "      <td>0</td>\n",
       "      <td>Yes</td>\n",
       "      <td>Self-employed</td>\n",
       "      <td>Rural</td>\n",
       "      <td>174.12</td>\n",
       "      <td>24.0</td>\n",
       "      <td>never smoked</td>\n",
       "      <td>Female</td>\n",
       "      <td>79.0</td>\n",
       "      <td>48161.0</td>\n",
       "      <td>3</td>\n",
       "      <td>1</td>\n",
       "    </tr>\n",
       "    <tr>\n",
       "      <th>...</th>\n",
       "      <td>...</td>\n",
       "      <td>...</td>\n",
       "      <td>...</td>\n",
       "      <td>...</td>\n",
       "      <td>...</td>\n",
       "      <td>...</td>\n",
       "      <td>...</td>\n",
       "      <td>...</td>\n",
       "      <td>...</td>\n",
       "      <td>...</td>\n",
       "      <td>...</td>\n",
       "      <td>...</td>\n",
       "      <td>...</td>\n",
       "    </tr>\n",
       "    <tr>\n",
       "      <th>5107</th>\n",
       "      <td>0</td>\n",
       "      <td>0</td>\n",
       "      <td>Yes</td>\n",
       "      <td>Self-employed</td>\n",
       "      <td>Rural</td>\n",
       "      <td>82.99</td>\n",
       "      <td>30.6</td>\n",
       "      <td>never smoked</td>\n",
       "      <td>Female</td>\n",
       "      <td>35.0</td>\n",
       "      <td>37325.0</td>\n",
       "      <td>2</td>\n",
       "      <td>0</td>\n",
       "    </tr>\n",
       "    <tr>\n",
       "      <th>5108</th>\n",
       "      <td>0</td>\n",
       "      <td>0</td>\n",
       "      <td>Yes</td>\n",
       "      <td>Private</td>\n",
       "      <td>Rural</td>\n",
       "      <td>166.29</td>\n",
       "      <td>25.6</td>\n",
       "      <td>formerly smoked</td>\n",
       "      <td>Male</td>\n",
       "      <td>51.0</td>\n",
       "      <td>56478.0</td>\n",
       "      <td>0</td>\n",
       "      <td>0</td>\n",
       "    </tr>\n",
       "    <tr>\n",
       "      <th>5109</th>\n",
       "      <td>0</td>\n",
       "      <td>0</td>\n",
       "      <td>Yes</td>\n",
       "      <td>Govt_job</td>\n",
       "      <td>Urban</td>\n",
       "      <td>85.28</td>\n",
       "      <td>26.2</td>\n",
       "      <td>Unknown</td>\n",
       "      <td>Female</td>\n",
       "      <td>44.0</td>\n",
       "      <td>77772.0</td>\n",
       "      <td>0</td>\n",
       "      <td>0</td>\n",
       "    </tr>\n",
       "    <tr>\n",
       "      <th>5110</th>\n",
       "      <td>1</td>\n",
       "      <td>No</td>\n",
       "      <td>Yes</td>\n",
       "      <td>children</td>\n",
       "      <td>Urban</td>\n",
       "      <td>90.51</td>\n",
       "      <td>31.0</td>\n",
       "      <td>formerly smoked</td>\n",
       "      <td>Female</td>\n",
       "      <td>33.0</td>\n",
       "      <td>18883.0</td>\n",
       "      <td>3</td>\n",
       "      <td>0</td>\n",
       "    </tr>\n",
       "    <tr>\n",
       "      <th>5111</th>\n",
       "      <td>0</td>\n",
       "      <td>0</td>\n",
       "      <td>Yes</td>\n",
       "      <td>Private</td>\n",
       "      <td>Urban</td>\n",
       "      <td>90.53</td>\n",
       "      <td>21.0</td>\n",
       "      <td>never smoked</td>\n",
       "      <td>Female</td>\n",
       "      <td>34.0</td>\n",
       "      <td>81362.0</td>\n",
       "      <td>5</td>\n",
       "      <td>0</td>\n",
       "    </tr>\n",
       "  </tbody>\n",
       "</table>\n",
       "<p>5112 rows × 13 columns</p>\n",
       "</div>"
      ],
      "text/plain": [
       "      Hypertension Heart Disease Married           Work Residence  \\\n",
       "0                0             1     Yes        Private     Urban   \n",
       "1                0             0     Yes  Self-employed     Rural   \n",
       "2                0             1     Yes        Private     Rural   \n",
       "3                0             0     Yes        Private     Urban   \n",
       "4                1             0     Yes  Self-employed     Rural   \n",
       "...            ...           ...     ...            ...       ...   \n",
       "5107             0             0     Yes  Self-employed     Rural   \n",
       "5108             0             0     Yes        Private     Rural   \n",
       "5109             0             0     Yes       Govt_job     Urban   \n",
       "5110             1            No     Yes       children     Urban   \n",
       "5111             0             0     Yes        Private     Urban   \n",
       "\n",
       "      Avg_glucose_level   Bmi          Smoking  Gender   Age    Income  \\\n",
       "0                228.69  36.6  formerly smoked    Male  67.0  725445.0   \n",
       "1                202.21   NaN     never smoked  Female  61.0  235422.0   \n",
       "2                105.92  32.5     never smoked    Male  80.0  278207.0   \n",
       "3                171.23  34.4           smokes  Female  49.0   22613.0   \n",
       "4                174.12  24.0     never smoked  Female  79.0   48161.0   \n",
       "...                 ...   ...              ...     ...   ...       ...   \n",
       "5107              82.99  30.6     never smoked  Female  35.0   37325.0   \n",
       "5108             166.29  25.6  formerly smoked    Male  51.0   56478.0   \n",
       "5109              85.28  26.2          Unknown  Female  44.0   77772.0   \n",
       "5110              90.51  31.0  formerly smoked  Female  33.0   18883.0   \n",
       "5111              90.53  21.0     never smoked  Female  34.0   81362.0   \n",
       "\n",
       "      Children  Stroke  \n",
       "0            3       1  \n",
       "1            0       1  \n",
       "2            3       1  \n",
       "3            1       1  \n",
       "4            3       1  \n",
       "...        ...     ...  \n",
       "5107         2       0  \n",
       "5108         0       0  \n",
       "5109         0       0  \n",
       "5110         3       0  \n",
       "5111         5       0  \n",
       "\n",
       "[5112 rows x 13 columns]"
      ]
     },
     "execution_count": 2,
     "metadata": {},
     "output_type": "execute_result"
    }
   ],
   "source": [
    "df=pd.read_csv('PublicHospitalDataset - Copy.csv')\n",
    "df"
   ]
  },
  {
   "cell_type": "markdown",
   "id": "83f0d0ad",
   "metadata": {},
   "source": [
    "### Limpieza base de datos"
   ]
  },
  {
   "cell_type": "markdown",
   "id": "fb2da83b",
   "metadata": {},
   "source": [
    "#### Codificacion variables"
   ]
  },
  {
   "cell_type": "markdown",
   "id": "3b237e58",
   "metadata": {},
   "source": [
    "| Variable          | Descripción                                    |\n",
    "|-------------------|------------------------------------------------|\n",
    "| Hypertension      | 1: Paciente tiene hipertensión                |\n",
    "|                   | 0: Paciente no tiene hipertensión             |\n",
    "| Heart Disease     | 1: Paciente tiene enfermedad cardiaca          |\n",
    "|                   | 0: Paciente no tiene enfermedad cardiaca       |\n",
    "| Married           | Yes: Paciente se ha casado                     |\n",
    "|                   | No: Paciente no se ha casado                   |\n",
    "| Work              | Children: Cuida niños                          |\n",
    "|                   | Govt_jov: Trabaja en el gobierno              |\n",
    "|                   | Never_worked: Nunca ha trabajado               |\n",
    "|                   | Private: Trabaja en el sector privado          |\n",
    "|                   | Self-employed: Trabajador por cuenta propia    |\n",
    "| Residence         | Rural: Vive en área rural                      |\n",
    "|                   | Urban: Vive en área urbana                      |\n",
    "| Avg_glucose_level | Nivel de glucose promedio                      |\n",
    "| Bmi               | Body mass index                                |\n",
    "| Smoking           | Formerly smoked, never smoked, smokes, Unknown |\n",
    "| Gender            | Male, Female, Other                            |\n",
    "| Age               | Edad del paciente                              |\n",
    "| Income            | Ingreso anual                                  |\n",
    "| Children          | Número de hijos                                |\n",
    "| Stroke            | 1: Paciente ha tendio ataque cerebral          |\n",
    "|                   | 0: Paciente no ha tenido ataque cerebral      |"
   ]
  },
  {
   "cell_type": "code",
   "execution_count": 3,
   "id": "4790ce16",
   "metadata": {},
   "outputs": [
    {
     "name": "stdout",
     "output_type": "stream",
     "text": [
      "Valores en Hypertension: [0 1] \n",
      "\n",
      "Valores en Heart Disease: ['1' '0' 'No'] \n",
      "\n",
      "Valores en Married: ['Yes' 'No'] \n",
      "\n",
      "Valores en Work: ['Private' 'Self-employed' 'k–sdh-k' 'Govt_job' 'sdsd-i' 'children'\n",
      " 'Never_worked' 'dsfsdf' 'sdfsdf'] \n",
      "\n",
      "Valores en Residence: ['Urban' 'Rural'] \n",
      "\n",
      "Valores en Smoking: ['formerly smoked' 'never smoked' 'smokes' 'Unknown' 'weed'] \n",
      "\n",
      "Valores en Gender: ['Male' 'Female' 'Other'] \n",
      "\n",
      "Valores en Stroke: [1 0] \n",
      "\n"
     ]
    }
   ],
   "source": [
    "#Comprobamos valores atipicos en las variables categoricas\n",
    "print(\"Valores en Hypertension:\",df['Hypertension'].unique(),\"\\n\")\n",
    "print(\"Valores en Heart Disease:\",df[\"Heart Disease\"].unique(),\"\\n\")\n",
    "print(\"Valores en Married:\",df[\"Married\"].unique(),\"\\n\")\n",
    "print(\"Valores en Work:\",df[\"Work\"].unique(),\"\\n\")\n",
    "print(\"Valores en Residence:\",df[\"Residence\"].unique(),\"\\n\")\n",
    "print(\"Valores en Smoking:\",df[\"Smoking\"].unique(),\"\\n\")\n",
    "print(\"Valores en Gender:\",df[\"Gender\"].unique(),\"\\n\")\n",
    "print(\"Valores en Stroke:\",df[\"Stroke\"].unique(),\"\\n\")"
   ]
  },
  {
   "cell_type": "code",
   "execution_count": 4,
   "id": "e8f2025e",
   "metadata": {},
   "outputs": [
    {
     "data": {
      "text/html": [
       "<div>\n",
       "<style scoped>\n",
       "    .dataframe tbody tr th:only-of-type {\n",
       "        vertical-align: middle;\n",
       "    }\n",
       "\n",
       "    .dataframe tbody tr th {\n",
       "        vertical-align: top;\n",
       "    }\n",
       "\n",
       "    .dataframe thead th {\n",
       "        text-align: right;\n",
       "    }\n",
       "</style>\n",
       "<table border=\"1\" class=\"dataframe\">\n",
       "  <thead>\n",
       "    <tr style=\"text-align: right;\">\n",
       "      <th></th>\n",
       "      <th>Hypertension</th>\n",
       "      <th>Avg_glucose_level</th>\n",
       "      <th>Bmi</th>\n",
       "      <th>Age</th>\n",
       "      <th>Income</th>\n",
       "      <th>Children</th>\n",
       "      <th>Stroke</th>\n",
       "    </tr>\n",
       "  </thead>\n",
       "  <tbody>\n",
       "    <tr>\n",
       "      <th>count</th>\n",
       "      <td>5112.000000</td>\n",
       "      <td>5112.000000</td>\n",
       "      <td>4911.000000</td>\n",
       "      <td>5112.000000</td>\n",
       "      <td>5085.000000</td>\n",
       "      <td>5112.000000</td>\n",
       "      <td>5112.000000</td>\n",
       "    </tr>\n",
       "    <tr>\n",
       "      <th>mean</th>\n",
       "      <td>0.097613</td>\n",
       "      <td>106.141563</td>\n",
       "      <td>61.449277</td>\n",
       "      <td>43.222809</td>\n",
       "      <td>117056.740216</td>\n",
       "      <td>1.263693</td>\n",
       "      <td>0.048709</td>\n",
       "    </tr>\n",
       "    <tr>\n",
       "      <th>std</th>\n",
       "      <td>0.296820</td>\n",
       "      <td>45.275754</td>\n",
       "      <td>1140.430359</td>\n",
       "      <td>22.609043</td>\n",
       "      <td>87105.782585</td>\n",
       "      <td>1.186283</td>\n",
       "      <td>0.215280</td>\n",
       "    </tr>\n",
       "    <tr>\n",
       "      <th>min</th>\n",
       "      <td>0.000000</td>\n",
       "      <td>55.120000</td>\n",
       "      <td>10.300000</td>\n",
       "      <td>0.080000</td>\n",
       "      <td>0.000000</td>\n",
       "      <td>0.000000</td>\n",
       "      <td>0.000000</td>\n",
       "    </tr>\n",
       "    <tr>\n",
       "      <th>25%</th>\n",
       "      <td>0.000000</td>\n",
       "      <td>77.255000</td>\n",
       "      <td>23.500000</td>\n",
       "      <td>25.000000</td>\n",
       "      <td>44133.000000</td>\n",
       "      <td>0.000000</td>\n",
       "      <td>0.000000</td>\n",
       "    </tr>\n",
       "    <tr>\n",
       "      <th>50%</th>\n",
       "      <td>0.000000</td>\n",
       "      <td>91.865000</td>\n",
       "      <td>28.100000</td>\n",
       "      <td>45.000000</td>\n",
       "      <td>101997.000000</td>\n",
       "      <td>1.000000</td>\n",
       "      <td>0.000000</td>\n",
       "    </tr>\n",
       "    <tr>\n",
       "      <th>75%</th>\n",
       "      <td>0.000000</td>\n",
       "      <td>114.090000</td>\n",
       "      <td>33.100000</td>\n",
       "      <td>61.000000</td>\n",
       "      <td>183402.000000</td>\n",
       "      <td>2.000000</td>\n",
       "      <td>0.000000</td>\n",
       "    </tr>\n",
       "    <tr>\n",
       "      <th>max</th>\n",
       "      <td>1.000000</td>\n",
       "      <td>271.740000</td>\n",
       "      <td>40000.000000</td>\n",
       "      <td>82.000000</td>\n",
       "      <td>849615.000000</td>\n",
       "      <td>7.000000</td>\n",
       "      <td>1.000000</td>\n",
       "    </tr>\n",
       "  </tbody>\n",
       "</table>\n",
       "</div>"
      ],
      "text/plain": [
       "       Hypertension  Avg_glucose_level           Bmi          Age  \\\n",
       "count   5112.000000        5112.000000   4911.000000  5112.000000   \n",
       "mean       0.097613         106.141563     61.449277    43.222809   \n",
       "std        0.296820          45.275754   1140.430359    22.609043   \n",
       "min        0.000000          55.120000     10.300000     0.080000   \n",
       "25%        0.000000          77.255000     23.500000    25.000000   \n",
       "50%        0.000000          91.865000     28.100000    45.000000   \n",
       "75%        0.000000         114.090000     33.100000    61.000000   \n",
       "max        1.000000         271.740000  40000.000000    82.000000   \n",
       "\n",
       "              Income     Children       Stroke  \n",
       "count    5085.000000  5112.000000  5112.000000  \n",
       "mean   117056.740216     1.263693     0.048709  \n",
       "std     87105.782585     1.186283     0.215280  \n",
       "min         0.000000     0.000000     0.000000  \n",
       "25%     44133.000000     0.000000     0.000000  \n",
       "50%    101997.000000     1.000000     0.000000  \n",
       "75%    183402.000000     2.000000     0.000000  \n",
       "max    849615.000000     7.000000     1.000000  "
      ]
     },
     "execution_count": 4,
     "metadata": {},
     "output_type": "execute_result"
    }
   ],
   "source": [
    "#Describimos la data numerica\n",
    "# De esta manera comprobamos datos atipicos, y valores faltantes en cada columna \n",
    "df.describe()\n",
    "#podemos ver un dato atipico en BMI, debido a que el valor maximo carece de sentido en la medida\n",
    "# De igual manera, tenemos un alto grado de valores faltantes en BMI\n",
    "#Existen valores faltantes en BMI y Income"
   ]
  },
  {
   "cell_type": "code",
   "execution_count": 5,
   "id": "9d3596f3",
   "metadata": {},
   "outputs": [
    {
     "name": "stdout",
     "output_type": "stream",
     "text": [
      "Hypertension           0\n",
      "Heart Disease          0\n",
      "Married                0\n",
      "Work                   0\n",
      "Residence              0\n",
      "Avg_glucose_level      0\n",
      "Bmi                  201\n",
      "Smoking                0\n",
      "Gender                 0\n",
      "Age                    0\n",
      "Income                27\n",
      "Children               0\n",
      "Stroke                 0\n",
      "dtype: int64\n"
     ]
    }
   ],
   "source": [
    "#Comprobamos el numero de valores nulos en cada columna \n",
    "print(df.isnull().sum())"
   ]
  },
  {
   "cell_type": "code",
   "execution_count": 6,
   "id": "a36a9d86",
   "metadata": {},
   "outputs": [
    {
     "name": "stdout",
     "output_type": "stream",
     "text": [
      "(5112, 13)\n"
     ]
    }
   ],
   "source": [
    "#Revisamos la froma de la base de datos\n",
    "print(df.shape)"
   ]
  },
  {
   "cell_type": "code",
   "execution_count": 7,
   "id": "dc7892e7",
   "metadata": {},
   "outputs": [
    {
     "name": "stdout",
     "output_type": "stream",
     "text": [
      "Hypertension           int64\n",
      "Heart Disease         object\n",
      "Married               object\n",
      "Work                  object\n",
      "Residence             object\n",
      "Avg_glucose_level    float64\n",
      "Bmi                  float64\n",
      "Smoking               object\n",
      "Gender                object\n",
      "Age                  float64\n",
      "Income               float64\n",
      "Children               int64\n",
      "Stroke                 int64\n",
      "dtype: object\n"
     ]
    }
   ],
   "source": [
    "#Comprobamos el tipo de datos de cada columna\n",
    "print(df.dtypes)\n",
    "#(InteractiveChaos, 2018)"
   ]
  },
  {
   "cell_type": "code",
   "execution_count": 8,
   "id": "d9da2e25",
   "metadata": {},
   "outputs": [
    {
     "data": {
      "text/plain": [
       "Index(['Hypertension', 'Heart_Disease', 'Married', 'Work', 'Residence',\n",
       "       'Avg_glucose_level', 'Bmi', 'Smoking', 'Gender', 'Age', 'Income',\n",
       "       'Children', 'Stroke'],\n",
       "      dtype='object')"
      ]
     },
     "execution_count": 8,
     "metadata": {},
     "output_type": "execute_result"
    }
   ],
   "source": [
    "#Estandarizamos el nombre de las columnas\n",
    "df.columns = [s.strip().replace(' ', '_') for s in df.columns]\n",
    "df.columns"
   ]
  },
  {
   "cell_type": "code",
   "execution_count": 9,
   "id": "f4dc9592",
   "metadata": {},
   "outputs": [
    {
     "data": {
      "text/plain": [
       "Hypertension         category\n",
       "Heart_Disease        category\n",
       "Married              category\n",
       "Work                 category\n",
       "Residence            category\n",
       "Avg_glucose_level     float64\n",
       "Bmi                   float64\n",
       "Smoking              category\n",
       "Gender               category\n",
       "Age                   float64\n",
       "Income                float64\n",
       "Children                int64\n",
       "Stroke               category\n",
       "dtype: object"
      ]
     },
     "execution_count": 9,
     "metadata": {},
     "output_type": "execute_result"
    }
   ],
   "source": [
    "#Cambiamos los valores a categoricos, debido a que existen determinadas entradas de valores \n",
    "df.Hypertension = df.Hypertension.astype('category')\n",
    "df.Heart_Disease=df.Heart_Disease.astype('category')\n",
    "df.Married=df.Married.astype('category')\n",
    "df.Work=df.Work.astype('category')\n",
    "df.Residence=df.Residence.astype('category')\n",
    "df.Gender=df.Gender.astype('category')\n",
    "df.Stroke=df.Stroke.astype('category')\n",
    "# Defining the values\n",
    "ingreso_smoking = ['smokes','formerly smoked','never smoked', 'Unknown','weed']\n",
    "\n",
    "# Defining income values as an ordinal categorical variable \n",
    "smoking_dtype = pd.api.types.CategoricalDtype(categories=ingreso_smoking, ordered=True)\n",
    "df[\"Smoking\"] = df[\"Smoking\"].astype(smoking_dtype)\n",
    "df.dtypes"
   ]
  },
  {
   "cell_type": "markdown",
   "id": "bd43491d",
   "metadata": {},
   "source": [
    "## Limpieza de columnas"
   ]
  },
  {
   "cell_type": "markdown",
   "id": "42067ab2",
   "metadata": {},
   "source": [
    "### Columna de \"Smoking\""
   ]
  },
  {
   "cell_type": "code",
   "execution_count": 10,
   "id": "a0f2448f",
   "metadata": {},
   "outputs": [
    {
     "data": {
      "text/html": [
       "<div>\n",
       "<style scoped>\n",
       "    .dataframe tbody tr th:only-of-type {\n",
       "        vertical-align: middle;\n",
       "    }\n",
       "\n",
       "    .dataframe tbody tr th {\n",
       "        vertical-align: top;\n",
       "    }\n",
       "\n",
       "    .dataframe thead th {\n",
       "        text-align: right;\n",
       "    }\n",
       "</style>\n",
       "<table border=\"1\" class=\"dataframe\">\n",
       "  <thead>\n",
       "    <tr style=\"text-align: right;\">\n",
       "      <th></th>\n",
       "      <th>Hypertension</th>\n",
       "      <th>Heart_Disease</th>\n",
       "      <th>Married</th>\n",
       "      <th>Work</th>\n",
       "      <th>Residence</th>\n",
       "      <th>Avg_glucose_level</th>\n",
       "      <th>Bmi</th>\n",
       "      <th>Smoking</th>\n",
       "      <th>Gender</th>\n",
       "      <th>Age</th>\n",
       "      <th>Income</th>\n",
       "      <th>Children</th>\n",
       "      <th>Stroke</th>\n",
       "    </tr>\n",
       "  </thead>\n",
       "  <tbody>\n",
       "    <tr>\n",
       "      <th>172</th>\n",
       "      <td>0</td>\n",
       "      <td>0</td>\n",
       "      <td>Yes</td>\n",
       "      <td>Private</td>\n",
       "      <td>Urban</td>\n",
       "      <td>97.43</td>\n",
       "      <td>26.4</td>\n",
       "      <td>weed</td>\n",
       "      <td>Female</td>\n",
       "      <td>60.0</td>\n",
       "      <td>36680.0</td>\n",
       "      <td>1</td>\n",
       "      <td>1</td>\n",
       "    </tr>\n",
       "  </tbody>\n",
       "</table>\n",
       "</div>"
      ],
      "text/plain": [
       "    Hypertension Heart_Disease Married     Work Residence  Avg_glucose_level  \\\n",
       "172            0             0     Yes  Private     Urban              97.43   \n",
       "\n",
       "      Bmi Smoking  Gender   Age   Income  Children Stroke  \n",
       "172  26.4    weed  Female  60.0  36680.0         1      1  "
      ]
     },
     "execution_count": 10,
     "metadata": {},
     "output_type": "execute_result"
    }
   ],
   "source": [
    "#Revisamos en que fila se encuentra el dato atipico\n",
    "df[df[\"Smoking\"]==\"weed\"]"
   ]
  },
  {
   "cell_type": "code",
   "execution_count": 11,
   "id": "83635596",
   "metadata": {},
   "outputs": [
    {
     "data": {
      "text/plain": [
       "['formerly smoked', 'never smoked', 'smokes', 'Unknown']\n",
       "Categories (4, object): ['Unknown', 'formerly smoked', 'never smoked', 'smokes']"
      ]
     },
     "execution_count": 11,
     "metadata": {},
     "output_type": "execute_result"
    }
   ],
   "source": [
    "# Debido a la entrada atipica con valor \"weed\" al ser fumada e inhalada por los pulmones asumimos como \"smokes\"\n",
    "df['Smoking'] = df['Smoking'].replace(\"weed\", \"smokes\")\n",
    "df.Smoking=df.Smoking.astype('string')\n",
    "df.Smoking=df.Smoking.astype('category')\n",
    "df.Smoking.unique()"
   ]
  },
  {
   "cell_type": "markdown",
   "id": "d82aec9a",
   "metadata": {},
   "source": [
    "### Columna \"Heart_Disease\" - Variables binarias"
   ]
  },
  {
   "cell_type": "code",
   "execution_count": 12,
   "id": "47d64651",
   "metadata": {},
   "outputs": [
    {
     "data": {
      "text/html": [
       "<div>\n",
       "<style scoped>\n",
       "    .dataframe tbody tr th:only-of-type {\n",
       "        vertical-align: middle;\n",
       "    }\n",
       "\n",
       "    .dataframe tbody tr th {\n",
       "        vertical-align: top;\n",
       "    }\n",
       "\n",
       "    .dataframe thead th {\n",
       "        text-align: right;\n",
       "    }\n",
       "</style>\n",
       "<table border=\"1\" class=\"dataframe\">\n",
       "  <thead>\n",
       "    <tr style=\"text-align: right;\">\n",
       "      <th></th>\n",
       "      <th>Hypertension</th>\n",
       "      <th>Heart_Disease</th>\n",
       "      <th>Married</th>\n",
       "      <th>Work</th>\n",
       "      <th>Residence</th>\n",
       "      <th>Avg_glucose_level</th>\n",
       "      <th>Bmi</th>\n",
       "      <th>Smoking</th>\n",
       "      <th>Gender</th>\n",
       "      <th>Age</th>\n",
       "      <th>Income</th>\n",
       "      <th>Children</th>\n",
       "      <th>Stroke</th>\n",
       "    </tr>\n",
       "  </thead>\n",
       "  <tbody>\n",
       "    <tr>\n",
       "      <th>5110</th>\n",
       "      <td>1</td>\n",
       "      <td>No</td>\n",
       "      <td>Yes</td>\n",
       "      <td>children</td>\n",
       "      <td>Urban</td>\n",
       "      <td>90.51</td>\n",
       "      <td>31.0</td>\n",
       "      <td>formerly smoked</td>\n",
       "      <td>Female</td>\n",
       "      <td>33.0</td>\n",
       "      <td>18883.0</td>\n",
       "      <td>3</td>\n",
       "      <td>0</td>\n",
       "    </tr>\n",
       "  </tbody>\n",
       "</table>\n",
       "</div>"
      ],
      "text/plain": [
       "     Hypertension Heart_Disease Married      Work Residence  \\\n",
       "5110            1            No     Yes  children     Urban   \n",
       "\n",
       "      Avg_glucose_level   Bmi          Smoking  Gender   Age   Income  \\\n",
       "5110              90.51  31.0  formerly smoked  Female  33.0  18883.0   \n",
       "\n",
       "      Children Stroke  \n",
       "5110         3      0  "
      ]
     },
     "execution_count": 12,
     "metadata": {},
     "output_type": "execute_result"
    }
   ],
   "source": [
    "df[df[\"Heart_Disease\"]==\"No\"]"
   ]
  },
  {
   "cell_type": "code",
   "execution_count": 13,
   "id": "4630c39c",
   "metadata": {},
   "outputs": [
    {
     "data": {
      "text/plain": [
       "['1', '0']\n",
       "Categories (2, object): ['0', '1']"
      ]
     },
     "execution_count": 13,
     "metadata": {},
     "output_type": "execute_result"
    }
   ],
   "source": [
    "# Al ser una variable binaria y obtener un valor de \"No\" podemos asumir que es igual a 0\n",
    "df['Heart_Disease'] = df['Heart_Disease'].replace(\"No\", 0)\n",
    "df.Heart_Disease=df.Heart_Disease.astype('string')\n",
    "df.Heart_Disease=df.Heart_Disease.astype('category')\n",
    "df.Heart_Disease.unique()"
   ]
  },
  {
   "cell_type": "markdown",
   "id": "8d20abf3",
   "metadata": {},
   "source": [
    "### Columna \"Works\"-  Listwise Deletion "
   ]
  },
  {
   "cell_type": "code",
   "execution_count": 14,
   "id": "3c89e7ec",
   "metadata": {},
   "outputs": [
    {
     "data": {
      "text/html": [
       "<div>\n",
       "<style scoped>\n",
       "    .dataframe tbody tr th:only-of-type {\n",
       "        vertical-align: middle;\n",
       "    }\n",
       "\n",
       "    .dataframe tbody tr th {\n",
       "        vertical-align: top;\n",
       "    }\n",
       "\n",
       "    .dataframe thead th {\n",
       "        text-align: right;\n",
       "    }\n",
       "</style>\n",
       "<table border=\"1\" class=\"dataframe\">\n",
       "  <thead>\n",
       "    <tr style=\"text-align: right;\">\n",
       "      <th></th>\n",
       "      <th>Hypertension</th>\n",
       "      <th>Heart_Disease</th>\n",
       "      <th>Married</th>\n",
       "      <th>Work</th>\n",
       "      <th>Residence</th>\n",
       "      <th>Avg_glucose_level</th>\n",
       "      <th>Bmi</th>\n",
       "      <th>Smoking</th>\n",
       "      <th>Gender</th>\n",
       "      <th>Age</th>\n",
       "      <th>Income</th>\n",
       "      <th>Children</th>\n",
       "      <th>Stroke</th>\n",
       "    </tr>\n",
       "  </thead>\n",
       "  <tbody>\n",
       "    <tr>\n",
       "      <th>8</th>\n",
       "      <td>0</td>\n",
       "      <td>0</td>\n",
       "      <td>Yes</td>\n",
       "      <td>k–sdh-k</td>\n",
       "      <td>Rural</td>\n",
       "      <td>76.15</td>\n",
       "      <td>NaN</td>\n",
       "      <td>Unknown</td>\n",
       "      <td>Female</td>\n",
       "      <td>59.0</td>\n",
       "      <td>121499.0</td>\n",
       "      <td>3</td>\n",
       "      <td>1</td>\n",
       "    </tr>\n",
       "    <tr>\n",
       "      <th>64</th>\n",
       "      <td>0</td>\n",
       "      <td>0</td>\n",
       "      <td>Yes</td>\n",
       "      <td>k–sdh-k</td>\n",
       "      <td>Urban</td>\n",
       "      <td>104.72</td>\n",
       "      <td>NaN</td>\n",
       "      <td>Unknown</td>\n",
       "      <td>Male</td>\n",
       "      <td>75.0</td>\n",
       "      <td>105544.0</td>\n",
       "      <td>3</td>\n",
       "      <td>1</td>\n",
       "    </tr>\n",
       "    <tr>\n",
       "      <th>90</th>\n",
       "      <td>0</td>\n",
       "      <td>1</td>\n",
       "      <td>Yes</td>\n",
       "      <td>sdsd-i</td>\n",
       "      <td>Urban</td>\n",
       "      <td>226.98</td>\n",
       "      <td>29.8</td>\n",
       "      <td>never smoked</td>\n",
       "      <td>Female</td>\n",
       "      <td>79.0</td>\n",
       "      <td>180881.0</td>\n",
       "      <td>3</td>\n",
       "      <td>1</td>\n",
       "    </tr>\n",
       "    <tr>\n",
       "      <th>300</th>\n",
       "      <td>0</td>\n",
       "      <td>0</td>\n",
       "      <td>Yes</td>\n",
       "      <td>k–sdh-k</td>\n",
       "      <td>Urban</td>\n",
       "      <td>81.51</td>\n",
       "      <td>28.5</td>\n",
       "      <td>Unknown</td>\n",
       "      <td>Female</td>\n",
       "      <td>53.0</td>\n",
       "      <td>11650.0</td>\n",
       "      <td>2</td>\n",
       "      <td>0</td>\n",
       "    </tr>\n",
       "    <tr>\n",
       "      <th>806</th>\n",
       "      <td>0</td>\n",
       "      <td>0</td>\n",
       "      <td>Yes</td>\n",
       "      <td>k–sdh-k</td>\n",
       "      <td>Rural</td>\n",
       "      <td>114.32</td>\n",
       "      <td>26.4</td>\n",
       "      <td>never smoked</td>\n",
       "      <td>Male</td>\n",
       "      <td>39.0</td>\n",
       "      <td>92013.0</td>\n",
       "      <td>1</td>\n",
       "      <td>0</td>\n",
       "    </tr>\n",
       "    <tr>\n",
       "      <th>2787</th>\n",
       "      <td>0</td>\n",
       "      <td>0</td>\n",
       "      <td>Yes</td>\n",
       "      <td>dsfsdf</td>\n",
       "      <td>Rural</td>\n",
       "      <td>84.60</td>\n",
       "      <td>27.0</td>\n",
       "      <td>smokes</td>\n",
       "      <td>Female</td>\n",
       "      <td>42.0</td>\n",
       "      <td>442516.0</td>\n",
       "      <td>2</td>\n",
       "      <td>0</td>\n",
       "    </tr>\n",
       "    <tr>\n",
       "      <th>4832</th>\n",
       "      <td>0</td>\n",
       "      <td>0</td>\n",
       "      <td>No</td>\n",
       "      <td>sdfsdf</td>\n",
       "      <td>Urban</td>\n",
       "      <td>61.88</td>\n",
       "      <td>20.1</td>\n",
       "      <td>never smoked</td>\n",
       "      <td>Female</td>\n",
       "      <td>20.0</td>\n",
       "      <td>551530.0</td>\n",
       "      <td>2</td>\n",
       "      <td>0</td>\n",
       "    </tr>\n",
       "    <tr>\n",
       "      <th>5055</th>\n",
       "      <td>0</td>\n",
       "      <td>0</td>\n",
       "      <td>No</td>\n",
       "      <td>sdfsdf</td>\n",
       "      <td>Urban</td>\n",
       "      <td>92.06</td>\n",
       "      <td>25.3</td>\n",
       "      <td>smokes</td>\n",
       "      <td>Female</td>\n",
       "      <td>25.0</td>\n",
       "      <td>196052.0</td>\n",
       "      <td>2</td>\n",
       "      <td>0</td>\n",
       "    </tr>\n",
       "    <tr>\n",
       "      <th>5065</th>\n",
       "      <td>0</td>\n",
       "      <td>0</td>\n",
       "      <td>Yes</td>\n",
       "      <td>sdfsdf</td>\n",
       "      <td>Urban</td>\n",
       "      <td>89.01</td>\n",
       "      <td>37.4</td>\n",
       "      <td>never smoked</td>\n",
       "      <td>Female</td>\n",
       "      <td>31.0</td>\n",
       "      <td>596184.0</td>\n",
       "      <td>3</td>\n",
       "      <td>0</td>\n",
       "    </tr>\n",
       "    <tr>\n",
       "      <th>5106</th>\n",
       "      <td>0</td>\n",
       "      <td>0</td>\n",
       "      <td>Yes</td>\n",
       "      <td>dsfsdf</td>\n",
       "      <td>Urban</td>\n",
       "      <td>125.20</td>\n",
       "      <td>40.0</td>\n",
       "      <td>never smoked</td>\n",
       "      <td>Female</td>\n",
       "      <td>81.0</td>\n",
       "      <td>NaN</td>\n",
       "      <td>2</td>\n",
       "      <td>0</td>\n",
       "    </tr>\n",
       "  </tbody>\n",
       "</table>\n",
       "</div>"
      ],
      "text/plain": [
       "     Hypertension Heart_Disease Married     Work Residence  Avg_glucose_level  \\\n",
       "8               0             0     Yes  k–sdh-k     Rural              76.15   \n",
       "64              0             0     Yes  k–sdh-k     Urban             104.72   \n",
       "90              0             1     Yes   sdsd-i     Urban             226.98   \n",
       "300             0             0     Yes  k–sdh-k     Urban              81.51   \n",
       "806             0             0     Yes  k–sdh-k     Rural             114.32   \n",
       "2787            0             0     Yes   dsfsdf     Rural              84.60   \n",
       "4832            0             0      No   sdfsdf     Urban              61.88   \n",
       "5055            0             0      No   sdfsdf     Urban              92.06   \n",
       "5065            0             0     Yes   sdfsdf     Urban              89.01   \n",
       "5106            0             0     Yes   dsfsdf     Urban             125.20   \n",
       "\n",
       "       Bmi       Smoking  Gender   Age    Income  Children Stroke  \n",
       "8      NaN       Unknown  Female  59.0  121499.0         3      1  \n",
       "64     NaN       Unknown    Male  75.0  105544.0         3      1  \n",
       "90    29.8  never smoked  Female  79.0  180881.0         3      1  \n",
       "300   28.5       Unknown  Female  53.0   11650.0         2      0  \n",
       "806   26.4  never smoked    Male  39.0   92013.0         1      0  \n",
       "2787  27.0        smokes  Female  42.0  442516.0         2      0  \n",
       "4832  20.1  never smoked  Female  20.0  551530.0         2      0  \n",
       "5055  25.3        smokes  Female  25.0  196052.0         2      0  \n",
       "5065  37.4  never smoked  Female  31.0  596184.0         3      0  \n",
       "5106  40.0  never smoked  Female  81.0       NaN         2      0  "
      ]
     },
     "execution_count": 14,
     "metadata": {},
     "output_type": "execute_result"
    }
   ],
   "source": [
    "#Revisamos filas con errores en work\n",
    "works=[\"children\",\"Govt_job\",\"Never_worked\",\"Private\",\"Self-employed\"]\n",
    "df[~df[\"Work\"].isin(works)]"
   ]
  },
  {
   "cell_type": "code",
   "execution_count": 15,
   "id": "adebf9e2",
   "metadata": {},
   "outputs": [
    {
     "name": "stderr",
     "output_type": "stream",
     "text": [
      "C:\\Users\\Emilia\\anaconda3\\lib\\site-packages\\pandas\\core\\generic.py:5516: SettingWithCopyWarning: \n",
      "A value is trying to be set on a copy of a slice from a DataFrame.\n",
      "Try using .loc[row_indexer,col_indexer] = value instead\n",
      "\n",
      "See the caveats in the documentation: https://pandas.pydata.org/pandas-docs/stable/user_guide/indexing.html#returning-a-view-versus-a-copy\n",
      "  self[name] = value\n"
     ]
    },
    {
     "data": {
      "text/plain": [
       "['Private', 'Self-employed', 'Govt_job', 'children', 'Never_worked']\n",
       "Categories (5, object): ['Govt_job', 'Never_worked', 'Private', 'Self-employed', 'children']"
      ]
     },
     "execution_count": 15,
     "metadata": {},
     "output_type": "execute_result"
    }
   ],
   "source": [
    "#Eliminamos los registros de la columna work no registrados\n",
    "df=df[df[\"Work\"].isin(works)]\n",
    "df.Work=df.Work.astype('string')\n",
    "df.Work=df.Work.astype('category')\n",
    "df.Work.unique()"
   ]
  },
  {
   "cell_type": "markdown",
   "id": "0cd1b338",
   "metadata": {},
   "source": [
    "### Valores nulos en la variable \"Income\" - Median substitution"
   ]
  },
  {
   "cell_type": "code",
   "execution_count": 16,
   "id": "b3012199",
   "metadata": {
    "scrolled": true
   },
   "outputs": [
    {
     "data": {
      "text/html": [
       "<div>\n",
       "<style scoped>\n",
       "    .dataframe tbody tr th:only-of-type {\n",
       "        vertical-align: middle;\n",
       "    }\n",
       "\n",
       "    .dataframe tbody tr th {\n",
       "        vertical-align: top;\n",
       "    }\n",
       "\n",
       "    .dataframe thead th {\n",
       "        text-align: right;\n",
       "    }\n",
       "</style>\n",
       "<table border=\"1\" class=\"dataframe\">\n",
       "  <thead>\n",
       "    <tr style=\"text-align: right;\">\n",
       "      <th></th>\n",
       "      <th>Hypertension</th>\n",
       "      <th>Heart_Disease</th>\n",
       "      <th>Married</th>\n",
       "      <th>Work</th>\n",
       "      <th>Residence</th>\n",
       "      <th>Avg_glucose_level</th>\n",
       "      <th>Bmi</th>\n",
       "      <th>Smoking</th>\n",
       "      <th>Gender</th>\n",
       "      <th>Age</th>\n",
       "      <th>Income</th>\n",
       "      <th>Children</th>\n",
       "      <th>Stroke</th>\n",
       "    </tr>\n",
       "  </thead>\n",
       "  <tbody>\n",
       "    <tr>\n",
       "      <th>20</th>\n",
       "      <td>0</td>\n",
       "      <td>0</td>\n",
       "      <td>Yes</td>\n",
       "      <td>Govt_job</td>\n",
       "      <td>Rural</td>\n",
       "      <td>193.94</td>\n",
       "      <td>22.4</td>\n",
       "      <td>smokes</td>\n",
       "      <td>Female</td>\n",
       "      <td>71.0</td>\n",
       "      <td>NaN</td>\n",
       "      <td>2</td>\n",
       "      <td>1</td>\n",
       "    </tr>\n",
       "    <tr>\n",
       "      <th>76</th>\n",
       "      <td>1</td>\n",
       "      <td>0</td>\n",
       "      <td>Yes</td>\n",
       "      <td>Private</td>\n",
       "      <td>Urban</td>\n",
       "      <td>240.09</td>\n",
       "      <td>27.0</td>\n",
       "      <td>never smoked</td>\n",
       "      <td>Male</td>\n",
       "      <td>80.0</td>\n",
       "      <td>NaN</td>\n",
       "      <td>1</td>\n",
       "      <td>1</td>\n",
       "    </tr>\n",
       "    <tr>\n",
       "      <th>139</th>\n",
       "      <td>0</td>\n",
       "      <td>0</td>\n",
       "      <td>Yes</td>\n",
       "      <td>Private</td>\n",
       "      <td>Rural</td>\n",
       "      <td>199.20</td>\n",
       "      <td>26.6</td>\n",
       "      <td>Unknown</td>\n",
       "      <td>Female</td>\n",
       "      <td>75.0</td>\n",
       "      <td>NaN</td>\n",
       "      <td>1</td>\n",
       "      <td>1</td>\n",
       "    </tr>\n",
       "    <tr>\n",
       "      <th>207</th>\n",
       "      <td>0</td>\n",
       "      <td>0</td>\n",
       "      <td>No</td>\n",
       "      <td>Self-employed</td>\n",
       "      <td>Urban</td>\n",
       "      <td>90.19</td>\n",
       "      <td>26.9</td>\n",
       "      <td>never smoked</td>\n",
       "      <td>Male</td>\n",
       "      <td>78.0</td>\n",
       "      <td>NaN</td>\n",
       "      <td>0</td>\n",
       "      <td>1</td>\n",
       "    </tr>\n",
       "    <tr>\n",
       "      <th>273</th>\n",
       "      <td>0</td>\n",
       "      <td>0</td>\n",
       "      <td>Yes</td>\n",
       "      <td>Private</td>\n",
       "      <td>Urban</td>\n",
       "      <td>109.82</td>\n",
       "      <td>23.7</td>\n",
       "      <td>never smoked</td>\n",
       "      <td>Female</td>\n",
       "      <td>59.0</td>\n",
       "      <td>NaN</td>\n",
       "      <td>3</td>\n",
       "      <td>0</td>\n",
       "    </tr>\n",
       "    <tr>\n",
       "      <th>317</th>\n",
       "      <td>1</td>\n",
       "      <td>0</td>\n",
       "      <td>Yes</td>\n",
       "      <td>Self-employed</td>\n",
       "      <td>Rural</td>\n",
       "      <td>127.71</td>\n",
       "      <td>36.0</td>\n",
       "      <td>never smoked</td>\n",
       "      <td>Female</td>\n",
       "      <td>37.0</td>\n",
       "      <td>NaN</td>\n",
       "      <td>3</td>\n",
       "      <td>0</td>\n",
       "    </tr>\n",
       "    <tr>\n",
       "      <th>369</th>\n",
       "      <td>0</td>\n",
       "      <td>0</td>\n",
       "      <td>No</td>\n",
       "      <td>children</td>\n",
       "      <td>Rural</td>\n",
       "      <td>93.25</td>\n",
       "      <td>16.6</td>\n",
       "      <td>Unknown</td>\n",
       "      <td>Female</td>\n",
       "      <td>4.0</td>\n",
       "      <td>NaN</td>\n",
       "      <td>0</td>\n",
       "      <td>0</td>\n",
       "    </tr>\n",
       "    <tr>\n",
       "      <th>562</th>\n",
       "      <td>0</td>\n",
       "      <td>0</td>\n",
       "      <td>No</td>\n",
       "      <td>children</td>\n",
       "      <td>Urban</td>\n",
       "      <td>58.26</td>\n",
       "      <td>16.5</td>\n",
       "      <td>Unknown</td>\n",
       "      <td>Female</td>\n",
       "      <td>1.8</td>\n",
       "      <td>NaN</td>\n",
       "      <td>0</td>\n",
       "      <td>0</td>\n",
       "    </tr>\n",
       "    <tr>\n",
       "      <th>623</th>\n",
       "      <td>0</td>\n",
       "      <td>0</td>\n",
       "      <td>Yes</td>\n",
       "      <td>Private</td>\n",
       "      <td>Rural</td>\n",
       "      <td>68.34</td>\n",
       "      <td>39.3</td>\n",
       "      <td>Unknown</td>\n",
       "      <td>Female</td>\n",
       "      <td>74.0</td>\n",
       "      <td>NaN</td>\n",
       "      <td>1</td>\n",
       "      <td>0</td>\n",
       "    </tr>\n",
       "    <tr>\n",
       "      <th>675</th>\n",
       "      <td>0</td>\n",
       "      <td>0</td>\n",
       "      <td>Yes</td>\n",
       "      <td>Govt_job</td>\n",
       "      <td>Rural</td>\n",
       "      <td>86.39</td>\n",
       "      <td>30.2</td>\n",
       "      <td>never smoked</td>\n",
       "      <td>Female</td>\n",
       "      <td>53.0</td>\n",
       "      <td>NaN</td>\n",
       "      <td>1</td>\n",
       "      <td>0</td>\n",
       "    </tr>\n",
       "    <tr>\n",
       "      <th>762</th>\n",
       "      <td>0</td>\n",
       "      <td>0</td>\n",
       "      <td>No</td>\n",
       "      <td>Private</td>\n",
       "      <td>Rural</td>\n",
       "      <td>173.43</td>\n",
       "      <td>25.6</td>\n",
       "      <td>smokes</td>\n",
       "      <td>Female</td>\n",
       "      <td>17.0</td>\n",
       "      <td>NaN</td>\n",
       "      <td>0</td>\n",
       "      <td>0</td>\n",
       "    </tr>\n",
       "    <tr>\n",
       "      <th>843</th>\n",
       "      <td>0</td>\n",
       "      <td>0</td>\n",
       "      <td>No</td>\n",
       "      <td>Self-employed</td>\n",
       "      <td>Urban</td>\n",
       "      <td>84.06</td>\n",
       "      <td>24.7</td>\n",
       "      <td>never smoked</td>\n",
       "      <td>Female</td>\n",
       "      <td>19.0</td>\n",
       "      <td>NaN</td>\n",
       "      <td>2</td>\n",
       "      <td>0</td>\n",
       "    </tr>\n",
       "    <tr>\n",
       "      <th>846</th>\n",
       "      <td>0</td>\n",
       "      <td>0</td>\n",
       "      <td>Yes</td>\n",
       "      <td>Govt_job</td>\n",
       "      <td>Rural</td>\n",
       "      <td>186.45</td>\n",
       "      <td>26.7</td>\n",
       "      <td>never smoked</td>\n",
       "      <td>Male</td>\n",
       "      <td>71.0</td>\n",
       "      <td>NaN</td>\n",
       "      <td>3</td>\n",
       "      <td>0</td>\n",
       "    </tr>\n",
       "    <tr>\n",
       "      <th>2046</th>\n",
       "      <td>0</td>\n",
       "      <td>0</td>\n",
       "      <td>Yes</td>\n",
       "      <td>Private</td>\n",
       "      <td>Urban</td>\n",
       "      <td>120.25</td>\n",
       "      <td>28.2</td>\n",
       "      <td>Unknown</td>\n",
       "      <td>Female</td>\n",
       "      <td>52.0</td>\n",
       "      <td>NaN</td>\n",
       "      <td>2</td>\n",
       "      <td>0</td>\n",
       "    </tr>\n",
       "    <tr>\n",
       "      <th>2107</th>\n",
       "      <td>1</td>\n",
       "      <td>0</td>\n",
       "      <td>No</td>\n",
       "      <td>Private</td>\n",
       "      <td>Rural</td>\n",
       "      <td>170.22</td>\n",
       "      <td>27.2</td>\n",
       "      <td>formerly smoked</td>\n",
       "      <td>Female</td>\n",
       "      <td>52.0</td>\n",
       "      <td>NaN</td>\n",
       "      <td>0</td>\n",
       "      <td>0</td>\n",
       "    </tr>\n",
       "    <tr>\n",
       "      <th>2157</th>\n",
       "      <td>0</td>\n",
       "      <td>0</td>\n",
       "      <td>No</td>\n",
       "      <td>children</td>\n",
       "      <td>Urban</td>\n",
       "      <td>55.61</td>\n",
       "      <td>19.6</td>\n",
       "      <td>Unknown</td>\n",
       "      <td>Male</td>\n",
       "      <td>6.0</td>\n",
       "      <td>NaN</td>\n",
       "      <td>0</td>\n",
       "      <td>0</td>\n",
       "    </tr>\n",
       "    <tr>\n",
       "      <th>2211</th>\n",
       "      <td>0</td>\n",
       "      <td>0</td>\n",
       "      <td>Yes</td>\n",
       "      <td>Self-employed</td>\n",
       "      <td>Rural</td>\n",
       "      <td>89.14</td>\n",
       "      <td>37.4</td>\n",
       "      <td>formerly smoked</td>\n",
       "      <td>Female</td>\n",
       "      <td>41.0</td>\n",
       "      <td>NaN</td>\n",
       "      <td>3</td>\n",
       "      <td>0</td>\n",
       "    </tr>\n",
       "    <tr>\n",
       "      <th>2232</th>\n",
       "      <td>0</td>\n",
       "      <td>0</td>\n",
       "      <td>Yes</td>\n",
       "      <td>Govt_job</td>\n",
       "      <td>Urban</td>\n",
       "      <td>128.23</td>\n",
       "      <td>49.4</td>\n",
       "      <td>never smoked</td>\n",
       "      <td>Female</td>\n",
       "      <td>48.0</td>\n",
       "      <td>NaN</td>\n",
       "      <td>0</td>\n",
       "      <td>0</td>\n",
       "    </tr>\n",
       "    <tr>\n",
       "      <th>3369</th>\n",
       "      <td>0</td>\n",
       "      <td>0</td>\n",
       "      <td>Yes</td>\n",
       "      <td>Govt_job</td>\n",
       "      <td>Urban</td>\n",
       "      <td>79.39</td>\n",
       "      <td>31.5</td>\n",
       "      <td>formerly smoked</td>\n",
       "      <td>Female</td>\n",
       "      <td>65.0</td>\n",
       "      <td>NaN</td>\n",
       "      <td>3</td>\n",
       "      <td>0</td>\n",
       "    </tr>\n",
       "    <tr>\n",
       "      <th>3789</th>\n",
       "      <td>0</td>\n",
       "      <td>0</td>\n",
       "      <td>No</td>\n",
       "      <td>children</td>\n",
       "      <td>Urban</td>\n",
       "      <td>95.39</td>\n",
       "      <td>20.4</td>\n",
       "      <td>Unknown</td>\n",
       "      <td>Female</td>\n",
       "      <td>8.0</td>\n",
       "      <td>NaN</td>\n",
       "      <td>0</td>\n",
       "      <td>0</td>\n",
       "    </tr>\n",
       "    <tr>\n",
       "      <th>3842</th>\n",
       "      <td>0</td>\n",
       "      <td>0</td>\n",
       "      <td>Yes</td>\n",
       "      <td>Private</td>\n",
       "      <td>Urban</td>\n",
       "      <td>94.63</td>\n",
       "      <td>33.0</td>\n",
       "      <td>never smoked</td>\n",
       "      <td>Female</td>\n",
       "      <td>57.0</td>\n",
       "      <td>NaN</td>\n",
       "      <td>2</td>\n",
       "      <td>0</td>\n",
       "    </tr>\n",
       "    <tr>\n",
       "      <th>3843</th>\n",
       "      <td>0</td>\n",
       "      <td>0</td>\n",
       "      <td>Yes</td>\n",
       "      <td>Private</td>\n",
       "      <td>Urban</td>\n",
       "      <td>86.97</td>\n",
       "      <td>25.7</td>\n",
       "      <td>Unknown</td>\n",
       "      <td>Female</td>\n",
       "      <td>35.0</td>\n",
       "      <td>NaN</td>\n",
       "      <td>1</td>\n",
       "      <td>0</td>\n",
       "    </tr>\n",
       "    <tr>\n",
       "      <th>3846</th>\n",
       "      <td>0</td>\n",
       "      <td>0</td>\n",
       "      <td>No</td>\n",
       "      <td>children</td>\n",
       "      <td>Urban</td>\n",
       "      <td>91.53</td>\n",
       "      <td>18.0</td>\n",
       "      <td>Unknown</td>\n",
       "      <td>Male</td>\n",
       "      <td>8.0</td>\n",
       "      <td>NaN</td>\n",
       "      <td>0</td>\n",
       "      <td>0</td>\n",
       "    </tr>\n",
       "    <tr>\n",
       "      <th>4942</th>\n",
       "      <td>0</td>\n",
       "      <td>0</td>\n",
       "      <td>Yes</td>\n",
       "      <td>Private</td>\n",
       "      <td>Rural</td>\n",
       "      <td>73.76</td>\n",
       "      <td>37.4</td>\n",
       "      <td>never smoked</td>\n",
       "      <td>Male</td>\n",
       "      <td>38.0</td>\n",
       "      <td>NaN</td>\n",
       "      <td>2</td>\n",
       "      <td>0</td>\n",
       "    </tr>\n",
       "    <tr>\n",
       "      <th>5022</th>\n",
       "      <td>0</td>\n",
       "      <td>0</td>\n",
       "      <td>No</td>\n",
       "      <td>Private</td>\n",
       "      <td>Rural</td>\n",
       "      <td>99.58</td>\n",
       "      <td>24.1</td>\n",
       "      <td>Unknown</td>\n",
       "      <td>Female</td>\n",
       "      <td>40.0</td>\n",
       "      <td>NaN</td>\n",
       "      <td>2</td>\n",
       "      <td>0</td>\n",
       "    </tr>\n",
       "    <tr>\n",
       "      <th>5083</th>\n",
       "      <td>0</td>\n",
       "      <td>0</td>\n",
       "      <td>No</td>\n",
       "      <td>Private</td>\n",
       "      <td>Urban</td>\n",
       "      <td>90.57</td>\n",
       "      <td>24.2</td>\n",
       "      <td>Unknown</td>\n",
       "      <td>Female</td>\n",
       "      <td>19.0</td>\n",
       "      <td>NaN</td>\n",
       "      <td>0</td>\n",
       "      <td>0</td>\n",
       "    </tr>\n",
       "  </tbody>\n",
       "</table>\n",
       "</div>"
      ],
      "text/plain": [
       "     Hypertension Heart_Disease Married           Work Residence  \\\n",
       "20              0             0     Yes       Govt_job     Rural   \n",
       "76              1             0     Yes        Private     Urban   \n",
       "139             0             0     Yes        Private     Rural   \n",
       "207             0             0      No  Self-employed     Urban   \n",
       "273             0             0     Yes        Private     Urban   \n",
       "317             1             0     Yes  Self-employed     Rural   \n",
       "369             0             0      No       children     Rural   \n",
       "562             0             0      No       children     Urban   \n",
       "623             0             0     Yes        Private     Rural   \n",
       "675             0             0     Yes       Govt_job     Rural   \n",
       "762             0             0      No        Private     Rural   \n",
       "843             0             0      No  Self-employed     Urban   \n",
       "846             0             0     Yes       Govt_job     Rural   \n",
       "2046            0             0     Yes        Private     Urban   \n",
       "2107            1             0      No        Private     Rural   \n",
       "2157            0             0      No       children     Urban   \n",
       "2211            0             0     Yes  Self-employed     Rural   \n",
       "2232            0             0     Yes       Govt_job     Urban   \n",
       "3369            0             0     Yes       Govt_job     Urban   \n",
       "3789            0             0      No       children     Urban   \n",
       "3842            0             0     Yes        Private     Urban   \n",
       "3843            0             0     Yes        Private     Urban   \n",
       "3846            0             0      No       children     Urban   \n",
       "4942            0             0     Yes        Private     Rural   \n",
       "5022            0             0      No        Private     Rural   \n",
       "5083            0             0      No        Private     Urban   \n",
       "\n",
       "      Avg_glucose_level   Bmi          Smoking  Gender   Age  Income  \\\n",
       "20               193.94  22.4           smokes  Female  71.0     NaN   \n",
       "76               240.09  27.0     never smoked    Male  80.0     NaN   \n",
       "139              199.20  26.6          Unknown  Female  75.0     NaN   \n",
       "207               90.19  26.9     never smoked    Male  78.0     NaN   \n",
       "273              109.82  23.7     never smoked  Female  59.0     NaN   \n",
       "317              127.71  36.0     never smoked  Female  37.0     NaN   \n",
       "369               93.25  16.6          Unknown  Female   4.0     NaN   \n",
       "562               58.26  16.5          Unknown  Female   1.8     NaN   \n",
       "623               68.34  39.3          Unknown  Female  74.0     NaN   \n",
       "675               86.39  30.2     never smoked  Female  53.0     NaN   \n",
       "762              173.43  25.6           smokes  Female  17.0     NaN   \n",
       "843               84.06  24.7     never smoked  Female  19.0     NaN   \n",
       "846              186.45  26.7     never smoked    Male  71.0     NaN   \n",
       "2046             120.25  28.2          Unknown  Female  52.0     NaN   \n",
       "2107             170.22  27.2  formerly smoked  Female  52.0     NaN   \n",
       "2157              55.61  19.6          Unknown    Male   6.0     NaN   \n",
       "2211              89.14  37.4  formerly smoked  Female  41.0     NaN   \n",
       "2232             128.23  49.4     never smoked  Female  48.0     NaN   \n",
       "3369              79.39  31.5  formerly smoked  Female  65.0     NaN   \n",
       "3789              95.39  20.4          Unknown  Female   8.0     NaN   \n",
       "3842              94.63  33.0     never smoked  Female  57.0     NaN   \n",
       "3843              86.97  25.7          Unknown  Female  35.0     NaN   \n",
       "3846              91.53  18.0          Unknown    Male   8.0     NaN   \n",
       "4942              73.76  37.4     never smoked    Male  38.0     NaN   \n",
       "5022              99.58  24.1          Unknown  Female  40.0     NaN   \n",
       "5083              90.57  24.2          Unknown  Female  19.0     NaN   \n",
       "\n",
       "      Children Stroke  \n",
       "20           2      1  \n",
       "76           1      1  \n",
       "139          1      1  \n",
       "207          0      1  \n",
       "273          3      0  \n",
       "317          3      0  \n",
       "369          0      0  \n",
       "562          0      0  \n",
       "623          1      0  \n",
       "675          1      0  \n",
       "762          0      0  \n",
       "843          2      0  \n",
       "846          3      0  \n",
       "2046         2      0  \n",
       "2107         0      0  \n",
       "2157         0      0  \n",
       "2211         3      0  \n",
       "2232         0      0  \n",
       "3369         3      0  \n",
       "3789         0      0  \n",
       "3842         2      0  \n",
       "3843         1      0  \n",
       "3846         0      0  \n",
       "4942         2      0  \n",
       "5022         2      0  \n",
       "5083         0      0  "
      ]
     },
     "execution_count": 16,
     "metadata": {},
     "output_type": "execute_result"
    }
   ],
   "source": [
    "df[df.Income.isnull()]"
   ]
  },
  {
   "cell_type": "code",
   "execution_count": 17,
   "id": "d5ff28f3",
   "metadata": {},
   "outputs": [
    {
     "name": "stderr",
     "output_type": "stream",
     "text": [
      "C:\\Users\\Emilia\\anaconda3\\lib\\site-packages\\pandas\\core\\generic.py:5516: SettingWithCopyWarning: \n",
      "A value is trying to be set on a copy of a slice from a DataFrame.\n",
      "Try using .loc[row_indexer,col_indexer] = value instead\n",
      "\n",
      "See the caveats in the documentation: https://pandas.pydata.org/pandas-docs/stable/user_guide/indexing.html#returning-a-view-versus-a-copy\n",
      "  self[name] = value\n"
     ]
    }
   ],
   "source": [
    "# Compute he median income\n",
    "medianIncome = df['Income'].median()\n",
    "\n",
    "# Fill nan values with the computed median\n",
    "df.Income = df.Income.fillna(value=medianIncome)"
   ]
  },
  {
   "cell_type": "code",
   "execution_count": 18,
   "id": "3fd818e3",
   "metadata": {},
   "outputs": [
    {
     "name": "stdout",
     "output_type": "stream",
     "text": [
      "Hypertension           0\n",
      "Heart_Disease          0\n",
      "Married                0\n",
      "Work                   0\n",
      "Residence              0\n",
      "Avg_glucose_level      0\n",
      "Bmi                  199\n",
      "Smoking                0\n",
      "Gender                 0\n",
      "Age                    0\n",
      "Income                 0\n",
      "Children               0\n",
      "Stroke                 0\n",
      "dtype: int64\n"
     ]
    }
   ],
   "source": [
    "x=df.isnull().sum()\n",
    "print(x)"
   ]
  },
  {
   "cell_type": "markdown",
   "id": "4b9bf315",
   "metadata": {},
   "source": [
    "### Valores atipicos en la variable \"BMI\" - Listwise Deletion "
   ]
  },
  {
   "cell_type": "code",
   "execution_count": 19,
   "id": "20959d69",
   "metadata": {},
   "outputs": [
    {
     "name": "stdout",
     "output_type": "stream",
     "text": [
      "Valores atípicos en 'Bmi':\n",
      "4594    40000.0\n",
      "4661    40000.0\n",
      "4774    40000.0\n",
      "4822    40000.0\n",
      "Name: Bmi, dtype: float64\n"
     ]
    }
   ],
   "source": [
    "# Calcular la media y la desviación estándar de 'Bmi'\n",
    "mean = df['Bmi'].mean()\n",
    "std_dev = df['Bmi'].std()\n",
    "\n",
    "# Definir los límites para detectar valores atípicos\n",
    "limites = (mean - 3 * std_dev, mean + 3 * std_dev)\n",
    "\n",
    "# Identificar los valores atípicos \n",
    "outliers_mask = (df['Bmi'] < limites[0]) | (df['Bmi'] > limites[1])\n",
    "atipicos = df.loc[outliers_mask, 'Bmi']\n",
    "\n",
    "# Imprimir los valores atípicos\n",
    "print(\"Valores atípicos en 'Bmi':\")\n",
    "print(atipicos)"
   ]
  },
  {
   "cell_type": "code",
   "execution_count": 20,
   "id": "2d2ae40b",
   "metadata": {},
   "outputs": [
    {
     "name": "stderr",
     "output_type": "stream",
     "text": [
      "C:\\Users\\Emilia\\anaconda3\\lib\\site-packages\\pandas\\core\\indexing.py:1817: SettingWithCopyWarning: \n",
      "A value is trying to be set on a copy of a slice from a DataFrame.\n",
      "Try using .loc[row_indexer,col_indexer] = value instead\n",
      "\n",
      "See the caveats in the documentation: https://pandas.pydata.org/pandas-docs/stable/user_guide/indexing.html#returning-a-view-versus-a-copy\n",
      "  self._setitem_single_column(loc, value, pi)\n"
     ]
    }
   ],
   "source": [
    "#Pasamos los valores atipicos a nulos\n",
    "df.loc[atipicos.index, 'Bmi'] = np.nan #(InteractiveChaos,2021)"
   ]
  },
  {
   "cell_type": "markdown",
   "id": "4c1154e3",
   "metadata": {},
   "source": [
    "### Valores nulos en la variable \"BMI\" - Regresion Imputation"
   ]
  },
  {
   "cell_type": "code",
   "execution_count": 21,
   "id": "8d918a59",
   "metadata": {
    "scrolled": true
   },
   "outputs": [
    {
     "name": "stderr",
     "output_type": "stream",
     "text": [
      "C:\\Users\\Emilia\\anaconda3\\lib\\site-packages\\statsmodels\\tsa\\tsatools.py:142: FutureWarning: In a future version of pandas all arguments of concat except for the argument 'objs' will be keyword-only\n",
      "  x = pd.concat(x[::order], 1)\n"
     ]
    },
    {
     "name": "stdout",
     "output_type": "stream",
     "text": [
      "                            OLS Regression Results                            \n",
      "==============================================================================\n",
      "Dep. Variable:                    Bmi   R-squared:                       0.251\n",
      "Model:                            OLS   Adj. R-squared:                  0.247\n",
      "Method:                 Least Squares   F-statistic:                     57.57\n",
      "Date:                Sat, 20 Apr 2024   Prob (F-statistic):          6.50e-169\n",
      "Time:                        21:12:48   Log-Likelihood:                -9796.2\n",
      "No. Observations:                2939   AIC:                         1.963e+04\n",
      "Df Residuals:                    2921   BIC:                         1.974e+04\n",
      "Df Model:                          17                                         \n",
      "Covariance Type:            nonrobust                                         \n",
      "===========================================================================================\n",
      "                              coef    std err          t      P>|t|      [0.025      0.975]\n",
      "-------------------------------------------------------------------------------------------\n",
      "const                      27.2162      0.684     39.818      0.000      25.876      28.556\n",
      "Avg_glucose_level           0.0207      0.003      6.887      0.000       0.015       0.027\n",
      "Age                        -0.0167      0.010     -1.753      0.080      -0.035       0.002\n",
      "Income                  -6.959e-07   1.53e-06     -0.455      0.649   -3.69e-06     2.3e-06\n",
      "Children                    0.0149      0.118      0.126      0.899      -0.216       0.246\n",
      "Hypertension_1              2.4312      0.464      5.237      0.000       1.521       3.341\n",
      "Heart_Disease_1            -1.2610      0.612     -2.059      0.040      -2.462      -0.060\n",
      "Married_Yes                 1.8128      0.371      4.884      0.000       1.085       2.541\n",
      "Work_Never_worked          -2.1950      2.111     -1.040      0.299      -6.335       1.945\n",
      "Work_Private               -0.1980      0.406     -0.488      0.626      -0.993       0.597\n",
      "Work_Self-employed         -0.2265      0.488     -0.464      0.643      -1.184       0.731\n",
      "Work_children              -9.2014      0.659    -13.955      0.000     -10.494      -7.909\n",
      "Residence_Urban            -0.0202      0.252     -0.080      0.936      -0.513       0.473\n",
      "Smoking_formerly smoked     0.6392      0.426      1.500      0.134      -0.196       1.475\n",
      "Smoking_never smoked        0.3837      0.353      1.086      0.278      -0.309       1.077\n",
      "Smoking_smokes              0.5862      0.433      1.353      0.176      -0.263       1.435\n",
      "Gender_Male                 0.2064      0.261      0.791      0.429      -0.305       0.718\n",
      "Gender_Other                0.2965      1.055      0.281      0.779      -1.773       2.366\n",
      "==============================================================================\n",
      "Omnibus:                      846.901   Durbin-Watson:                   2.015\n",
      "Prob(Omnibus):                  0.000   Jarque-Bera (JB):             3559.946\n",
      "Skew:                           1.346   Prob(JB):                         0.00\n",
      "Kurtosis:                       7.672   Cond. No.                     2.45e+06\n",
      "==============================================================================\n",
      "\n",
      "Notes:\n",
      "[1] Standard Errors assume that the covariance matrix of the errors is correctly specified.\n",
      "[2] The condition number is large, 2.45e+06. This might indicate that there are\n",
      "strong multicollinearity or other numerical problems.\n"
     ]
    }
   ],
   "source": [
    "df_regression=df[df[\"Bmi\"].notnull()]\n",
    "predictors = ['Hypertension', 'Heart_Disease', 'Married', 'Work', 'Residence',\n",
    "       'Avg_glucose_level', 'Smoking', 'Gender', 'Age', 'Income',\n",
    "       'Children']\n",
    "\n",
    "outcome = 'Bmi'\n",
    "\n",
    "X = pd.get_dummies(df_regression[predictors], drop_first=True).astype(float)\n",
    "\n",
    "y = df_regression[outcome]\n",
    "\n",
    "train_X, valid_X, train_y, valid_y = train_test_split(X, y, test_size=0.4, random_state=1)\n",
    "\n",
    "train2_X = sm.add_constant(train_X)\n",
    "#Inicializamos el modelo\n",
    "model=sm.OLS(train_y, train2_X)\n",
    "#Ajusta el modelo al sel que envie\n",
    "results=model.fit()\n",
    "\n",
    "print(results.summary())"
   ]
  },
  {
   "cell_type": "code",
   "execution_count": 22,
   "id": "c91ad623",
   "metadata": {},
   "outputs": [
    {
     "name": "stderr",
     "output_type": "stream",
     "text": [
      "C:\\Users\\Emilia\\anaconda3\\lib\\site-packages\\statsmodels\\tsa\\tsatools.py:142: FutureWarning: In a future version of pandas all arguments of concat except for the argument 'objs' will be keyword-only\n",
      "  x = pd.concat(x[::order], 1)\n"
     ]
    },
    {
     "name": "stdout",
     "output_type": "stream",
     "text": [
      "0\n"
     ]
    },
    {
     "name": "stderr",
     "output_type": "stream",
     "text": [
      "C:\\Users\\Emilia\\anaconda3\\lib\\site-packages\\pandas\\core\\indexing.py:1773: SettingWithCopyWarning: \n",
      "A value is trying to be set on a copy of a slice from a DataFrame.\n",
      "Try using .loc[row_indexer,col_indexer] = value instead\n",
      "\n",
      "See the caveats in the documentation: https://pandas.pydata.org/pandas-docs/stable/user_guide/indexing.html#returning-a-view-versus-a-copy\n",
      "  self._setitem_single_column(ilocs[0], value, pi)\n"
     ]
    }
   ],
   "source": [
    "# Obtener las filas con valores nulos en la columna 'Bmi'\n",
    "df_nulos = df[df[\"Bmi\"].isnull()]\n",
    "\n",
    "# Obtener las características para predecir los valores de 'Bmi' en las filas con valores nulos\n",
    "X_nulos = pd.get_dummies(df_nulos[predictors], drop_first=True)\n",
    "\n",
    "# Agregar la constante al conjunto de características\n",
    "X_nulos = sm.add_constant(X_nulos)\n",
    "\n",
    "# Predecir los valores de 'Bmi' para las filas con valores nulos\n",
    "predicciones = results.predict(X_nulos)\n",
    "\n",
    "# Llenar los valores nulos en la columna 'Bmi' con las predicciones\n",
    "df.loc[df[\"Bmi\"].isnull(), \"Bmi\"] = predicciones\n",
    "\n",
    "# Verificar que no hay más valores nulos en la columna 'Bmi'\n",
    "print(df['Bmi'].isnull().sum())"
   ]
  },
  {
   "cell_type": "markdown",
   "id": "a74f11ad",
   "metadata": {},
   "source": [
    "# Correleacion variables predictivas"
   ]
  },
  {
   "cell_type": "code",
   "execution_count": 23,
   "id": "02004ff4",
   "metadata": {},
   "outputs": [
    {
     "name": "stdout",
     "output_type": "stream",
     "text": [
      "                         Avg_glucose_level       Bmi       Age    Income  \\\n",
      "Avg_glucose_level                 1.000000  0.180498  0.237565  0.025029   \n",
      "Bmi                               0.180498  1.000000  0.336325  0.120150   \n",
      "Age                               0.237565  0.336325  1.000000  0.181037   \n",
      "Income                            0.025029  0.120150  0.181037  1.000000   \n",
      "Children                          0.055252  0.200437  0.345121  0.107197   \n",
      "Hypertension_1                    0.174300  0.173112  0.276396  0.022047   \n",
      "Heart_Disease_1                   0.159999  0.041701  0.263324  0.061446   \n",
      "Married_Yes                       0.154700  0.344433  0.678899  0.161285   \n",
      "Work_Never_worked                -0.014681 -0.028917 -0.078675 -0.060718   \n",
      "Work_Private                      0.016604  0.208588  0.117047  0.270487   \n",
      "Work_Self-employed                0.062938  0.073264  0.327893 -0.009089   \n",
      "Work_children                    -0.102446 -0.453277 -0.634447 -0.276386   \n",
      "Residence_Urban                  -0.005441 -0.000712  0.013605  0.004576   \n",
      "Smoking_formerly smoked           0.068027  0.106663  0.237181  0.045579   \n",
      "Smoking_never smoked              0.023098  0.104852  0.119359  0.064695   \n",
      "Smoking_smokes                    0.018158  0.092018  0.074093  0.041261   \n",
      "Gender_Male                       0.052985 -0.025769 -0.027162 -0.028076   \n",
      "Gender_Other                      0.009491  0.007550 -0.003174 -0.000935   \n",
      "Stroke_1                          0.131051  0.043526  0.243720  0.034400   \n",
      "\n",
      "                         Children  Hypertension_1  Heart_Disease_1  \\\n",
      "Avg_glucose_level        0.055252        0.174300         0.159999   \n",
      "Bmi                      0.200437        0.173112         0.041701   \n",
      "Age                      0.345121        0.276396         0.263324   \n",
      "Income                   0.107197        0.022047         0.061446   \n",
      "Children                 1.000000        0.084241         0.062963   \n",
      "Hypertension_1           0.084241        1.000000         0.108413   \n",
      "Heart_Disease_1          0.062963        0.108413         1.000000   \n",
      "Married_Yes              0.307937        0.164802         0.114370   \n",
      "Work_Never_worked       -0.059913       -0.021668        -0.015708   \n",
      "Work_Private             0.168145       -0.005860        -0.000494   \n",
      "Work_Self-employed       0.098782        0.115318         0.087482   \n",
      "Work_children           -0.418500       -0.128058        -0.091692   \n",
      "Residence_Urban         -0.002303       -0.007143         0.002333   \n",
      "Smoking_formerly smoked  0.094298        0.059823         0.067005   \n",
      "Smoking_never smoked     0.090350        0.064702        -0.022946   \n",
      "Smoking_smokes           0.079182        0.031106         0.044649   \n",
      "Gender_Male             -0.036780        0.014512         0.083659   \n",
      "Gender_Other            -0.011044        0.024186         0.013168   \n",
      "Stroke_1                 0.038285        0.129179         0.132652   \n",
      "\n",
      "                         Married_Yes  Work_Never_worked  Work_Private  \\\n",
      "Avg_glucose_level           0.154700          -0.014681      0.016604   \n",
      "Bmi                         0.344433          -0.028917      0.208588   \n",
      "Age                         0.678899          -0.078675      0.117047   \n",
      "Income                      0.161285          -0.060718      0.270487   \n",
      "Children                    0.307937          -0.059913      0.168145   \n",
      "Hypertension_1              0.164802          -0.021668     -0.005860   \n",
      "Heart_Disease_1             0.114370          -0.015708     -0.000494   \n",
      "Married_Yes                 1.000000          -0.090880      0.154053   \n",
      "Work_Never_worked          -0.090880           1.000000     -0.076067   \n",
      "Work_Private                0.154053          -0.076067      1.000000   \n",
      "Work_Self-employed          0.192429          -0.028735     -0.504722   \n",
      "Work_children              -0.544006          -0.025981     -0.456346   \n",
      "Residence_Urban             0.006816           0.022901     -0.018127   \n",
      "Smoking_formerly smoked     0.171841          -0.030168      0.025377   \n",
      "Smoking_never smoked        0.102925           0.036298      0.105173   \n",
      "Smoking_smokes              0.105912          -0.028105      0.099679   \n",
      "Gender_Male                -0.033116           0.007429     -0.027522   \n",
      "Gender_Other                0.008415           0.016389     -0.019620   \n",
      "Stroke_1                    0.107126          -0.014812      0.009809   \n",
      "\n",
      "                         Work_Self-employed  Work_children  Residence_Urban  \\\n",
      "Avg_glucose_level                  0.062938      -0.102446        -0.005441   \n",
      "Bmi                                0.073264      -0.453277        -0.000712   \n",
      "Age                                0.327893      -0.634447         0.013605   \n",
      "Income                            -0.009089      -0.276386         0.004576   \n",
      "Children                           0.098782      -0.418500        -0.002303   \n",
      "Hypertension_1                     0.115318      -0.128058        -0.007143   \n",
      "Heart_Disease_1                    0.087482      -0.091692         0.002333   \n",
      "Married_Yes                        0.192429      -0.544006         0.006816   \n",
      "Work_Never_worked                 -0.028735      -0.025981         0.022901   \n",
      "Work_Private                      -0.504722      -0.456346        -0.018127   \n",
      "Work_Self-employed                 1.000000      -0.172391         0.009723   \n",
      "Work_children                     -0.172391       1.000000        -0.001600   \n",
      "Residence_Urban                    0.009723      -0.001600         1.000000   \n",
      "Smoking_formerly smoked            0.093289      -0.159778         0.008335   \n",
      "Smoking_never smoked               0.030628      -0.238411        -0.025011   \n",
      "Smoking_smokes                    -0.002996      -0.165429         0.027494   \n",
      "Gender_Male                       -0.032948       0.092931        -0.003578   \n",
      "Gender_Other                       0.029238      -0.015925        -0.009980   \n",
      "Stroke_1                           0.063887      -0.083503         0.014771   \n",
      "\n",
      "                         Smoking_formerly smoked  Smoking_never smoked  \\\n",
      "Avg_glucose_level                       0.068027              0.023098   \n",
      "Bmi                                     0.106663              0.104852   \n",
      "Age                                     0.237181              0.119359   \n",
      "Income                                  0.045579              0.064695   \n",
      "Children                                0.094298              0.090350   \n",
      "Hypertension_1                          0.059823              0.064702   \n",
      "Heart_Disease_1                         0.067005             -0.022946   \n",
      "Married_Yes                             0.171841              0.102925   \n",
      "Work_Never_worked                      -0.030168              0.036298   \n",
      "Work_Private                            0.025377              0.105173   \n",
      "Work_Self-employed                      0.093289              0.030628   \n",
      "Work_children                          -0.159778             -0.238411   \n",
      "Residence_Urban                         0.008335             -0.025011   \n",
      "Smoking_formerly smoked                 1.000000             -0.351354   \n",
      "Smoking_never smoked                   -0.351354              1.000000   \n",
      "Smoking_smokes                         -0.195778             -0.327322   \n",
      "Gender_Male                             0.039364             -0.100956   \n",
      "Gender_Other                            0.015398              0.005015   \n",
      "Stroke_1                                0.065889             -0.003852   \n",
      "\n",
      "                         Smoking_smokes  Gender_Male  Gender_Other  Stroke_1  \n",
      "Avg_glucose_level              0.018158     0.052985      0.009491  0.131051  \n",
      "Bmi                            0.092018    -0.025769      0.007550  0.043526  \n",
      "Age                            0.074093    -0.027162     -0.003174  0.243720  \n",
      "Income                         0.041261    -0.028076     -0.000935  0.034400  \n",
      "Children                       0.079182    -0.036780     -0.011044  0.038285  \n",
      "Hypertension_1                 0.031106     0.014512      0.024186  0.129179  \n",
      "Heart_Disease_1                0.044649     0.083659      0.013168  0.132652  \n",
      "Married_Yes                    0.105912    -0.033116      0.008415  0.107126  \n",
      "Work_Never_worked             -0.028105     0.007429      0.016389 -0.014812  \n",
      "Work_Private                   0.099679    -0.027522     -0.019620  0.009809  \n",
      "Work_Self-employed            -0.002996    -0.032948      0.029238  0.063887  \n",
      "Work_children                 -0.165429     0.092931     -0.015925 -0.083503  \n",
      "Residence_Urban                0.027494    -0.003578     -0.009980  0.014771  \n",
      "Smoking_formerly smoked       -0.195778     0.039364      0.015398  0.065889  \n",
      "Smoking_never smoked          -0.327322    -0.100956      0.005015 -0.003852  \n",
      "Smoking_smokes                 1.000000     0.014167     -0.008357  0.010269  \n",
      "Gender_Male                    0.014167     1.000000     -0.100915  0.016409  \n",
      "Gender_Other                  -0.008357    -0.100915      1.000000 -0.027862  \n",
      "Stroke_1                       0.010269     0.016409     -0.027862  1.000000  \n"
     ]
    }
   ],
   "source": [
    "x=df.columns\n",
    "df_encoded = pd.get_dummies(df, drop_first=True)\n",
    "# Calcular la matriz de correlación para el DataFrame codificado\n",
    "correlation_matrix = df_encoded.corr()\n",
    "print(correlation_matrix)"
   ]
  },
  {
   "cell_type": "code",
   "execution_count": 24,
   "id": "a4259b56",
   "metadata": {},
   "outputs": [
    {
     "data": {
      "image/png": "[encoded data removed]",
      "text/plain": [
       "<Figure size 1080x720 with 2 Axes>"
      ]
     },
     "metadata": {
      "needs_background": "light"
     },
     "output_type": "display_data"
    }
   ],
   "source": [
    "import seaborn as sns\n",
    "# Visualización de la matriz de correlación con un heatmap\n",
    "plt.figure(figsize=(15, 10))\n",
    "sns.heatmap(correlation_matrix, cmap='coolwarm', linewidths=.5)\n",
    "plt.title(\"Correlación entre todas las variables\")\n",
    "plt.show()"
   ]
  },
  {
   "cell_type": "code",
   "execution_count": 25,
   "id": "d8556337",
   "metadata": {},
   "outputs": [
    {
     "data": {
      "image/png": "[encoded data removed]",
      "text/plain": [
       "<Figure size 720x432 with 1 Axes>"
      ]
     },
     "metadata": {
      "needs_background": "light"
     },
     "output_type": "display_data"
    }
   ],
   "source": [
    "import pandas as pd\n",
    "import numpy as np\n",
    "import matplotlib.pyplot as plt\n",
    "from sklearn.ensemble import RandomForestClassifier\n",
    "\n",
    "\n",
    "# Eliminamos la variable de respuesta del conjunto de características\n",
    "X = df_encoded.drop('Stroke_1', axis=1)\n",
    "\n",
    "# Variable de respuesta\n",
    "y = df_encoded['Stroke_1']\n",
    "\n",
    "# Creamos el modelo de Random Forest\n",
    "model = RandomForestClassifier(n_estimators=100, random_state=42)\n",
    "\n",
    "# Entrenamos el modelo\n",
    "model.fit(X, y)\n",
    "\n",
    "# Extraemos la importancia de las características\n",
    "importances = model.feature_importances_\n",
    "\n",
    "# Ordenamos las importancias de mayor a menor\n",
    "indices = np.argsort(importances)[::-1]\n",
    "\n",
    "# Obtener nombres de las características\n",
    "feature_names = X.columns\n",
    "\n",
    "# Graficar\n",
    "plt.figure(figsize=(10, 6))\n",
    "plt.title(\"Importancia de las características para predecir 'stroke'\")\n",
    "plt.bar(range(X.shape[1]), importances[indices], align=\"center\")\n",
    "plt.xticks(range(X.shape[1]), feature_names[indices], rotation=90)\n",
    "plt.xlim([-1, X.shape[1]])\n",
    "plt.xlabel(\"Características\")\n",
    "plt.ylabel(\"Importancia\")\n",
    "plt.tight_layout()\n",
    "plt.show()\n",
    "# Variable de respuesta"
   ]
  },
  {
   "cell_type": "markdown",
   "id": "ab993b2a",
   "metadata": {},
   "source": [
    "# Visualizacion de datos"
   ]
  },
  {
   "cell_type": "markdown",
   "id": "17d50694",
   "metadata": {},
   "source": [
    "### Revisar el balance de nuestra variable de respuesta"
   ]
  },
  {
   "cell_type": "code",
   "execution_count": 26,
   "id": "d94ffd2f",
   "metadata": {},
   "outputs": [
    {
     "data": {
      "image/png": "[encoded data removed]",
      "text/plain": [
       "<Figure size 432x288 with 1 Axes>"
      ]
     },
     "metadata": {},
     "output_type": "display_data"
    },
    {
     "name": "stdout",
     "output_type": "stream",
     "text": [
      "Stroke\n",
      "0    4856\n",
      "1     246\n",
      "dtype: int64\n"
     ]
    }
   ],
   "source": [
    "# Agrupamos por la columna \"Stroke\" y contamos el número de filas en cada grupo\n",
    "grouped_df = df.groupby(by=\"Stroke\").size()\n",
    "\n",
    "# Creamos un gráfico de pastel utilizando los datos agrupados\n",
    "plt.pie(grouped_df, labels=grouped_df.index, autopct=\"%.2f%%\")\n",
    "plt.title(\"Número de datos con diagnostico con strokes\")\n",
    "plt.show()\n",
    "print(grouped_df)"
   ]
  },
  {
   "cell_type": "code",
   "execution_count": null,
   "id": "d6e77648",
   "metadata": {},
   "outputs": [],
   "source": []
  },
  {
   "cell_type": "markdown",
   "id": "da301466",
   "metadata": {},
   "source": [
    "### Visualizacion de hypertension"
   ]
  },
  {
   "cell_type": "code",
   "execution_count": 27,
   "id": "af8e1443",
   "metadata": {},
   "outputs": [
    {
     "data": {
      "image/png": "[encoded data removed]",
      "text/plain": [
       "<Figure size 432x288 with 1 Axes>"
      ]
     },
     "metadata": {
      "needs_background": "light"
     },
     "output_type": "display_data"
    }
   ],
   "source": [
    "# Contar la frecuencia de cada valor en la columna \"Hypertension\"\n",
    "conteo_hipertension = df['Hypertension'].value_counts()\n",
    "\n",
    "# Definir colores para las barras\n",
    "colores = ['skyblue', 'salmon']\n",
    "\n",
    "# Crear el gráfico de barras con colores personalizados\n",
    "plt.bar(conteo_hipertension.index, conteo_hipertension.values, color=colores)\n",
    "\n",
    "# Establecer los límites del eje x y especificar las etiquetas\n",
    "plt.xticks([0, 1])\n",
    "\n",
    "# Añadir etiquetas de valores a las barras\n",
    "for i, valor in enumerate(conteo_hipertension.values):\n",
    "    plt.text(i, valor, str(valor), ha='center', va='bottom')\n",
    "\n",
    "# Añadir etiquetas y título\n",
    "plt.xlabel('Hypertension')\n",
    "plt.ylabel('Frecuencia')\n",
    "plt.title('Distribución de la Variable Hypertension')\n",
    "\n",
    "# Mostrar el gráfico\n",
    "plt.show()\n"
   ]
  },
  {
   "cell_type": "markdown",
   "id": "33bd4a61",
   "metadata": {},
   "source": [
    "### Visualizacion Heart_Disease"
   ]
  },
  {
   "cell_type": "code",
   "execution_count": 28,
   "id": "6d867201",
   "metadata": {},
   "outputs": [
    {
     "data": {
      "image/png": "[encoded data removed]",
      "text/plain": [
       "<Figure size 432x288 with 1 Axes>"
      ]
     },
     "metadata": {
      "needs_background": "light"
     },
     "output_type": "display_data"
    }
   ],
   "source": [
    "# Contar la frecuencia de cada valor en la columna \"Heart_Disease\"\n",
    "conteo_enfermedad_cardiaca = df['Heart_Disease'].value_counts()\n",
    "\n",
    "# Definir colores para las barras\n",
    "colores = ['lightgreen', 'lightcoral']\n",
    "\n",
    "# Crear el gráfico de barras con colores personalizados\n",
    "plt.barh(conteo_enfermedad_cardiaca.index, conteo_enfermedad_cardiaca.values, color=colores)\n",
    "\n",
    "# Añadir etiquetas de valores a las barras\n",
    "for i, valor in enumerate(conteo_enfermedad_cardiaca.values):\n",
    "    plt.text(valor, i, str(valor), ha='left', va='center')\n",
    "\n",
    "# Añadir etiquetas y título\n",
    "plt.ylabel('Heart Disease')\n",
    "plt.xlabel('Frecuencia')\n",
    "plt.title('Distribución de la Variable Heart Disease')\n",
    "\n",
    "# Mostrar el gráfico\n",
    "plt.show()"
   ]
  },
  {
   "cell_type": "markdown",
   "id": "42f8e7b5",
   "metadata": {},
   "source": [
    "### Visualizacion de Married"
   ]
  },
  {
   "cell_type": "code",
   "execution_count": 29,
   "id": "c7aabfbf",
   "metadata": {},
   "outputs": [
    {
     "data": {
      "image/png": "[encoded data removed]",
      "text/plain": [
       "<Figure size 432x288 with 1 Axes>"
      ]
     },
     "metadata": {},
     "output_type": "display_data"
    }
   ],
   "source": [
    "\n",
    "# Contar la frecuencia de cada valor en la columna \"Married\"\n",
    "conteo_casado = df['Married'].value_counts()\n",
    "\n",
    "# Definir colores para las secciones del gráfico de dona\n",
    "colores = ['lightblue', 'lightcoral']\n",
    "\n",
    "# Crear el gráfico de dona\n",
    "plt.pie(conteo_casado, labels=conteo_casado.index, colors=colores, autopct='%1.1f%%', startangle=90)\n",
    "\n",
    "# Añadir un círculo en el centro para convertirlo en un gráfico de dona\n",
    "circulo_central = plt.Circle((0,0),0.70,fc='white')\n",
    "fig = plt.gcf()\n",
    "fig.gca().add_artist(circulo_central)\n",
    "\n",
    "# Añadir título\n",
    "plt.title('Distribución de la Variable Married')\n",
    "\n",
    "# Mostrar el gráfico\n",
    "plt.axis('equal')\n",
    "plt.show()"
   ]
  },
  {
   "cell_type": "markdown",
   "id": "afb05328",
   "metadata": {},
   "source": [
    "### Visualizacion Work"
   ]
  },
  {
   "cell_type": "code",
   "execution_count": 30,
   "id": "1ef63968",
   "metadata": {},
   "outputs": [
    {
     "data": {
      "image/png": "[encoded data removed]",
      "text/plain": [
       "<Figure size 432x288 with 1 Axes>"
      ]
     },
     "metadata": {
      "needs_background": "light"
     },
     "output_type": "display_data"
    }
   ],
   "source": [
    "# Contar la frecuencia de cada opción en la columna \"Work\"\n",
    "conteo_trabajo = df['Work'].value_counts()\n",
    "\n",
    "# Crear el gráfico de barras\n",
    "plt.bar(conteo_trabajo.index, conteo_trabajo.values, color='skyblue')\n",
    "\n",
    "# Añadir etiquetas de valores a las barras\n",
    "for i, valor in enumerate(conteo_trabajo.values):\n",
    "    plt.text(i, valor, str(valor), ha='center', va='bottom')\n",
    "\n",
    "# Añadir etiquetas y título\n",
    "plt.xlabel('Opción de Trabajo')\n",
    "plt.ylabel('Frecuencia')\n",
    "plt.title('Distribución de la Variable Work')\n",
    "\n",
    "# Rotar las etiquetas del eje x para mejorar la legibilidad\n",
    "plt.xticks(rotation=45, ha='right')\n",
    "\n",
    "# Mostrar el gráfico\n",
    "plt.tight_layout()\n",
    "plt.show()"
   ]
  },
  {
   "cell_type": "markdown",
   "id": "73a0e6a5",
   "metadata": {},
   "source": [
    "### Visualizacion residence"
   ]
  },
  {
   "cell_type": "code",
   "execution_count": 31,
   "id": "086ce3b5",
   "metadata": {},
   "outputs": [
    {
     "data": {
      "image/png": "[encoded data removed]",
      "text/plain": [
       "<Figure size 432x288 with 1 Axes>"
      ]
     },
     "metadata": {},
     "output_type": "display_data"
    }
   ],
   "source": [
    "\n",
    "# Contar la frecuencia de cada opción en la columna \"Residence\"\n",
    "conteo_residencia = df['Residence'].value_counts()\n",
    "\n",
    "# Crear el gráfico de pie\n",
    "plt.pie(conteo_residencia, labels=conteo_residencia.index, autopct='%1.1f%%', startangle=90)\n",
    "\n",
    "# Añadir título\n",
    "plt.title('Distribución de la Variable Residence')\n",
    "\n",
    "# Mostrar el gráfico\n",
    "plt.axis('equal')\n",
    "plt.show()"
   ]
  },
  {
   "cell_type": "markdown",
   "id": "e28f201c",
   "metadata": {},
   "source": [
    "### Variable Avg_glucose_level"
   ]
  },
  {
   "cell_type": "code",
   "execution_count": 32,
   "id": "3161991e",
   "metadata": {},
   "outputs": [
    {
     "data": {
      "image/png": "[encoded data removed]",
      "text/plain": [
       "<Figure size 432x288 with 1 Axes>"
      ]
     },
     "metadata": {
      "needs_background": "light"
     },
     "output_type": "display_data"
    }
   ],
   "source": [
    "# Crear el gráfico de distribución utilizando seaborn\n",
    "sns.histplot(df['Avg_glucose_level'], kde=True, color='skyblue')\n",
    "\n",
    "# Añadir título y etiquetas\n",
    "plt.title('Distribución de Avg_glucose_level')\n",
    "plt.xlabel('Avg_glucose_level')\n",
    "plt.ylabel('Frecuencia')\n",
    "\n",
    "# Mostrar el gráfico\n",
    "plt.show()"
   ]
  },
  {
   "cell_type": "markdown",
   "id": "a46f9f76",
   "metadata": {},
   "source": [
    "### Variable BMI"
   ]
  },
  {
   "cell_type": "code",
   "execution_count": 33,
   "id": "0285de6c",
   "metadata": {},
   "outputs": [
    {
     "data": {
      "image/png": "[encoded data removed]",
      "text/plain": [
       "<Figure size 432x288 with 1 Axes>"
      ]
     },
     "metadata": {
      "needs_background": "light"
     },
     "output_type": "display_data"
    }
   ],
   "source": [
    "# Crear el gráfico de distribución utilizando seaborn\n",
    "sns.histplot(df['Bmi'], kde=True, color='green')\n",
    "\n",
    "# Añadir título y etiquetas\n",
    "plt.title('Distribución de Bmi')\n",
    "plt.xlabel('Bmi')\n",
    "plt.ylabel('Frecuencia')\n",
    "\n",
    "# Mostrar el gráfico\n",
    "plt.show()"
   ]
  },
  {
   "cell_type": "markdown",
   "id": "75c9cd2d",
   "metadata": {},
   "source": [
    "### Variable Smoking"
   ]
  },
  {
   "cell_type": "code",
   "execution_count": 34,
   "id": "f2dffa33",
   "metadata": {},
   "outputs": [
    {
     "data": {
      "image/png": "[encoded data removed]",
      "text/plain": [
       "<Figure size 432x288 with 1 Axes>"
      ]
     },
     "metadata": {
      "needs_background": "light"
     },
     "output_type": "display_data"
    }
   ],
   "source": [
    "# Contar la frecuencia de cada opción en la columna \"Work\"\n",
    "conteo_trabajo = df['Smoking'].value_counts()\n",
    "\n",
    "# Crear el gráfico de barras\n",
    "plt.bar(conteo_trabajo.index, conteo_trabajo.values, color='lightgreen')\n",
    "\n",
    "# Añadir etiquetas de valores a las barras\n",
    "for i, valor in enumerate(conteo_trabajo.values):\n",
    "    plt.text(i, valor, str(valor), ha='center', va='bottom')\n",
    "\n",
    "# Añadir etiquetas y título\n",
    "plt.xlabel('Condicion de fumador')\n",
    "plt.ylabel('Frecuencia')\n",
    "plt.title('Distribución de la Variable Smoking')\n",
    "\n",
    "# Rotar las etiquetas del eje x para mejorar la legibilidad\n",
    "plt.xticks(rotation=45, ha='right')\n",
    "\n",
    "# Mostrar el gráfico\n",
    "plt.tight_layout()\n",
    "plt.show()"
   ]
  },
  {
   "cell_type": "markdown",
   "id": "b17bf838",
   "metadata": {},
   "source": [
    "### variable gender"
   ]
  },
  {
   "cell_type": "code",
   "execution_count": 35,
   "id": "b30e592a",
   "metadata": {},
   "outputs": [
    {
     "data": {
      "image/png": "[encoded data removed]",
      "text/plain": [
       "<Figure size 432x288 with 1 Axes>"
      ]
     },
     "metadata": {},
     "output_type": "display_data"
    }
   ],
   "source": [
    "# Contar la frecuencia de cada opción en la columna \"Gender\"\n",
    "conteo_residencia = df['Gender'].value_counts()\n",
    "# Definir colores personalizados\n",
    "colores = ['lightblue', 'lightgreen', 'lightcoral']\n",
    "# Crear el gráfico de pie\n",
    "plt.pie(conteo_residencia, labels=conteo_residencia.index, autopct='%1.1f%%', startangle=90, colors=colores)\n",
    "\n",
    "# Añadir título\n",
    "plt.title('Distribución de la Variable Gender')\n",
    "\n",
    "# Mostrar el gráfico\n",
    "plt.axis('equal')\n",
    "plt.show()"
   ]
  },
  {
   "cell_type": "markdown",
   "id": "f7ee5f42",
   "metadata": {},
   "source": [
    "### Variable Age"
   ]
  },
  {
   "cell_type": "code",
   "execution_count": 36,
   "id": "11282ba3",
   "metadata": {},
   "outputs": [
    {
     "data": {
      "image/png": "[encoded data removed]",
      "text/plain": [
       "<Figure size 432x288 with 1 Axes>"
      ]
     },
     "metadata": {
      "needs_background": "light"
     },
     "output_type": "display_data"
    }
   ],
   "source": [
    "# Crear el gráfico de distribución utilizando seaborn\n",
    "sns.histplot(df['Age'], kde=True, color='blue')\n",
    "\n",
    "# Añadir título y etiquetas\n",
    "plt.title('Distribución de Age')\n",
    "plt.xlabel('Age')\n",
    "plt.ylabel('Frecuencia')\n",
    "\n",
    "# Mostrar el gráfico\n",
    "plt.show()"
   ]
  },
  {
   "cell_type": "markdown",
   "id": "07258f87",
   "metadata": {},
   "source": [
    "### Variable income"
   ]
  },
  {
   "cell_type": "code",
   "execution_count": 37,
   "id": "ed2e5069",
   "metadata": {},
   "outputs": [
    {
     "data": {
      "image/png": "[encoded data removed]",
      "text/plain": [
       "<Figure size 432x288 with 1 Axes>"
      ]
     },
     "metadata": {
      "needs_background": "light"
     },
     "output_type": "display_data"
    }
   ],
   "source": [
    "# Crear el gráfico de distribución utilizando seaborn\n",
    "sns.histplot(df['Income'], kde=True, color='orange')\n",
    "\n",
    "# Añadir título y etiquetas\n",
    "plt.title('Distribución de Income')\n",
    "plt.xlabel('Income')\n",
    "plt.ylabel('Frecuencia')\n",
    "\n",
    "# Mostrar el gráfico\n",
    "plt.show()"
   ]
  },
  {
   "cell_type": "markdown",
   "id": "bcbc1b61",
   "metadata": {},
   "source": [
    "### Variable Children"
   ]
  },
  {
   "cell_type": "code",
   "execution_count": 38,
   "id": "cf5f3340",
   "metadata": {},
   "outputs": [
    {
     "data": {
      "image/png": "[encoded data removed]",
      "text/plain": [
       "<Figure size 432x288 with 1 Axes>"
      ]
     },
     "metadata": {
      "needs_background": "light"
     },
     "output_type": "display_data"
    }
   ],
   "source": [
    "# Contar la frecuencia de cada opción en la columna \"Work\"\n",
    "conteo_trabajo = df['Children'].value_counts()\n",
    "\n",
    "# Crear el gráfico de barras\n",
    "plt.bar(conteo_trabajo.index, conteo_trabajo.values, color='red')\n",
    "\n",
    "# Añadir etiquetas de valores a las barras\n",
    "for i, valor in enumerate(conteo_trabajo.values):\n",
    "    plt.text(i, valor, str(valor), ha='center', va='bottom')\n",
    "\n",
    "# Añadir etiquetas y título\n",
    "plt.xlabel('Numero de hijos')\n",
    "plt.ylabel('Frecuencia')\n",
    "plt.title('Distribución de la Variable Children')\n",
    "\n",
    "# Rotar las etiquetas del eje x para mejorar la legibilidad\n",
    "plt.xticks(rotation=45, ha='right')\n",
    "\n",
    "# Mostrar el gráfico\n",
    "plt.tight_layout()\n",
    "plt.show()"
   ]
  },
  {
   "cell_type": "markdown",
   "id": "392bb98f",
   "metadata": {},
   "source": [
    "### Relacion entre heart disease y hypertension "
   ]
  },
  {
   "cell_type": "code",
   "execution_count": 39,
   "id": "bc2fe7a4",
   "metadata": {},
   "outputs": [
    {
     "data": {
      "image/png": "[encoded data removed]",
      "text/plain": [
       "<Figure size 432x288 with 1 Axes>"
      ]
     },
     "metadata": {
      "needs_background": "light"
     },
     "output_type": "display_data"
    }
   ],
   "source": [
    "# Crear un DataFrame con las variables de interés\n",
    "df_relacion = df[['Hypertension', 'Heart_Disease']]\n",
    "\n",
    "# Calcular la frecuencia de combinaciones de valores\n",
    "conteo_relacion = df_relacion.groupby(['Hypertension', 'Heart_Disease']).size().unstack()\n",
    "\n",
    "# Crear el gráfico de barras apiladas\n",
    "conteo_relacion.plot(kind='bar', stacked=True, color=['skyblue', 'lightcoral'])\n",
    "\n",
    "# Añadir título y etiquetas\n",
    "plt.title('Relación entre Hypertension y Heart Disease')\n",
    "plt.xlabel('Hypertension')\n",
    "plt.ylabel('Cantidad')\n",
    "# Mostrar el gráfico\n",
    "plt.show()"
   ]
  },
  {
   "cell_type": "markdown",
   "id": "d7b5e09c",
   "metadata": {},
   "source": [
    "## Partición\n",
    "#### Entrenamiento 75%, validación 10% y prueba 15%\n",
    "##### (Camacho et al., 2024)"
   ]
  },
  {
   "cell_type": "code",
   "execution_count": 40,
   "id": "c3d1891c",
   "metadata": {},
   "outputs": [
    {
     "name": "stdout",
     "output_type": "stream",
     "text": [
      "Set de entrenamiento   :  (3826, 12)\n",
      "Set de validacion      :  (510, 12)\n",
      "Set de prueba          :  (766, 12)\n"
     ]
    }
   ],
   "source": [
    "#Se crea una lista llamada predictors que contiene las variables predictivas \n",
    "predictors = ['Hypertension', 'Heart_Disease', 'Married', 'Work', 'Residence',\n",
    "       'Avg_glucose_level','Bmi', 'Smoking', 'Gender', 'Age', 'Income',\n",
    "       'Children']\n",
    "#Se crea define la variable que se desea predecir \n",
    "outcome = 'Stroke'\n",
    "#Se crean dos conjuntos de datos \n",
    "#Contiene las caractericticas o las variables predictores del dataframe\n",
    "X = df[predictors]\n",
    "#Contiene la variable resultado \n",
    "y = df[outcome]\n",
    "#División de datos en un conjunto de entrenamiento, validación y prueba\n",
    "#Random_state se utiliza para garantizar la reproducibilidad de la división de datos\n",
    "#Se divide el 75% en set de entrenamiento (X_train), y el 25% restante se guarda en X_temp\n",
    "X_train, X_temp, y_train, y_temp = train_test_split(X, y, test_size=0.25, random_state=1)\n",
    "#Se divide X_temp en conjuntos de validacion (X_valid) con el 10% y en prueba (X_test) con 15%\n",
    "X_valid, X_test, y_valid, y_test = train_test_split(X_temp, y_temp, test_size=0.6, random_state=1)\n",
    "#Impresion de tamaños de los conjuntos \n",
    "print('Set de entrenamiento   : ', X_train.shape)\n",
    "print('Set de validacion      : ', X_valid.shape)\n",
    "print('Set de prueba          : ', X_test.shape)"
   ]
  },
  {
   "cell_type": "markdown",
   "id": "23d35998",
   "metadata": {},
   "source": [
    "## Oversampling"
   ]
  },
  {
   "cell_type": "code",
   "execution_count": 41,
   "id": "e9df3c33",
   "metadata": {
    "scrolled": true
   },
   "outputs": [
    {
     "name": "stdout",
     "output_type": "stream",
     "text": [
      "0    4856\n",
      "1    4856\n",
      "Name: Stroke, dtype: int64\n"
     ]
    }
   ],
   "source": [
    "from sklearn.utils import resample\n",
    "\n",
    "# Separar las clases minoritarias y mayoritarias\n",
    "minority_class = df[df['Stroke'] == 1]\n",
    "majority_class = df[df['Stroke'] == 0]\n",
    "\n",
    "# Aplicar sobremuestreo a la clase minoritaria\n",
    "minority_upsampled = resample(minority_class,\n",
    "                               replace=True,  # muestreo con reemplazo\n",
    "                               n_samples=len(majority_class),  # igualar tamaño con la clase mayoritaria\n",
    "                               random_state=42)  # reproducibilidad\n",
    "\n",
    "# Combinar la clase mayoritaria con la clase minoritaria sobremuestreada\n",
    "df_oversampled = pd.concat([majority_class, minority_upsampled])\n",
    "\n",
    "# Visualizar la distribución de clases después del sobremuestreo\n",
    "print(df_oversampled['Stroke'].value_counts())\n",
    "\n",
    "#(Imbalanced Learn, s. f.)"
   ]
  },
  {
   "cell_type": "markdown",
   "id": "b21a1345",
   "metadata": {},
   "source": [
    "## Undersampling"
   ]
  },
  {
   "cell_type": "code",
   "execution_count": 42,
   "id": "5f938bb7",
   "metadata": {
    "scrolled": true
   },
   "outputs": [
    {
     "name": "stdout",
     "output_type": "stream",
     "text": [
      "0    246\n",
      "1    246\n",
      "Name: Stroke, dtype: int64\n"
     ]
    }
   ],
   "source": [
    "from sklearn.utils import resample\n",
    "\n",
    "# Separar las clases minoritarias y mayoritarias\n",
    "minority_class = df[df['Stroke'] == 1]\n",
    "majority_class = df[df['Stroke'] == 0]\n",
    "\n",
    "# Aplicar submuestreo a la clase mayoritaria\n",
    "majority_downsampled = resample(majority_class,\n",
    "                                 replace=False,  # muestreo sin reemplazo\n",
    "                                 n_samples=len(minority_class),  # igualar tamaño con la clase minoritaria\n",
    "                                 random_state=42)  # reproducibilidad\n",
    "\n",
    "# Combinar la clase minoritaria con la clase mayoritaria submuestreada\n",
    "df_undersampled = pd.concat([minority_class, majority_downsampled])\n",
    "\n",
    "# Visualizar la distribución de clases después del submuestreo\n",
    "print(df_undersampled['Stroke'].value_counts())\n",
    "\n",
    "#(Imbalanced Learn, s. f.)"
   ]
  },
  {
   "cell_type": "markdown",
   "id": "2d02893f",
   "metadata": {
    "scrolled": true
   },
   "source": [
    "## Estadísticas de cada modelo"
   ]
  },
  {
   "cell_type": "code",
   "execution_count": 43,
   "id": "2179b107",
   "metadata": {
    "scrolled": true
   },
   "outputs": [
    {
     "name": "stdout",
     "output_type": "stream",
     "text": [
      "Resultados de Oversampling:\n",
      "fit_time: 0.06 (+/- 0.02)\n",
      "score_time: 0.05 (+/- 0.01)\n",
      "test_accuracy: 0.78 (+/- 0.03)\n",
      "test_precision: 0.76 (+/- 0.02)\n",
      "test_recall: 0.82 (+/- 0.03)\n",
      "test_f1: 0.79 (+/- 0.02)\n",
      "test_roc_auc: 0.85 (+/- 0.02)\n",
      "\n",
      "Resultados de Undersampling:\n",
      "fit_time: 0.02 (+/- 0.00)\n",
      "score_time: 0.03 (+/- 0.00)\n",
      "test_accuracy: 0.80 (+/- 0.02)\n",
      "test_precision: 0.79 (+/- 0.07)\n",
      "test_recall: 0.82 (+/- 0.10)\n",
      "test_f1: 0.80 (+/- 0.02)\n",
      "test_roc_auc: 0.86 (+/- 0.05)\n"
     ]
    }
   ],
   "source": [
    "# Separar las características \n",
    "X_oversampled = df_oversampled.drop('Stroke', axis=1)\n",
    "y_oversampled = df_oversampled['Stroke']\n",
    "X_undersampled =df_undersampled.drop('Stroke', axis=1)\n",
    "y_undersampled = df_undersampled['Stroke']\n",
    "# Importar las librerías necesarias\n",
    "from sklearn.compose import ColumnTransformer\n",
    "from sklearn.preprocessing import StandardScaler, OneHotEncoder\n",
    "from sklearn.pipeline import Pipeline\n",
    "from sklearn.model_selection import cross_validate\n",
    "from sklearn.linear_model import LogisticRegression\n",
    "\n",
    "# Definir el modelo de clasificación\n",
    "model = LogisticRegression()\n",
    "\n",
    "# Definir métricas de evaluación\n",
    "scoring = ['accuracy', 'precision', 'recall', 'f1', 'roc_auc']\n",
    "#accuracy: mide la frecuencia con la que un modelo predice correctamente el resultado.\n",
    "#precision: mide la exactitud de las predicciones positivas realizadas por el modelo.\n",
    "#recall: mide la capacidad del modelo para identificar correctamente instancias positivas.\n",
    "#f1: combina precisión y recall en una sola métrica.\n",
    "#roc_auc: mide el rendimiento de un modelo de clasificación binaria trazando la tasa de verdaderos positivos frente a \n",
    "#la tasa de falsos positivos en varios umbrales de clasificación.\n",
    "\n",
    "# Definir las columnas numéricas y categóricas\n",
    "numeric_features = ['Avg_glucose_level', 'Bmi', 'Age', 'Income', 'Children']\n",
    "categorical_features = ['Hypertension', 'Heart_Disease', 'Married', 'Work', 'Residence', 'Smoking', 'Gender']\n",
    "\n",
    "# Construir un preprocesador para escalar características numéricas y codificar características categóricas\n",
    "preprocessor = ColumnTransformer(\n",
    "    transformers=[\n",
    "        ('num', StandardScaler(), numeric_features),\n",
    "        ('cat', OneHotEncoder(), categorical_features)])\n",
    "\n",
    "# Construir el pipeline del modelo con preprocesamiento y modelo de clasificación\n",
    "pipeline = Pipeline(steps=[('preprocessor', preprocessor),\n",
    "                           ('classifier', model)])\n",
    "\n",
    "# Evaluar el modelo con oversampling utilizando validación cruzada\n",
    "oversampling_scores = cross_validate(pipeline, X_oversampled, y_oversampled, cv=5, scoring=scoring)\n",
    "\n",
    "# Evaluar el modelo con undersampling utilizando validación cruzada\n",
    "undersampling_scores = cross_validate(pipeline, X_undersampled, y_undersampled, cv=5, scoring=scoring)\n",
    "\n",
    "# Imprimir resultados de oversampling\n",
    "print(\"Resultados de Oversampling:\")\n",
    "for metric_name, scores in oversampling_scores.items():\n",
    "    print(f\"{metric_name}: {scores.mean():.2f} (+/- {scores.std() * 2:.2f})\")\n",
    "\n",
    "# Imprimir resultados de undersampling\n",
    "print(\"\\nResultados de Undersampling:\")\n",
    "for metric_name, scores in undersampling_scores.items():\n",
    "    print(f\"{metric_name}: {scores.mean():.2f} (+/- {scores.std() * 2:.2f})\")\n",
    "    \n",
    "#(Brownlee, 2020)\n",
    "#(EvidentlyAI, s. f.)\n",
    "#(Saini, 2023)"
   ]
  },
  {
   "cell_type": "markdown",
   "id": "3984cbb6",
   "metadata": {},
   "source": [
    "# Prueba estadística"
   ]
  },
  {
   "cell_type": "markdown",
   "id": "bab211fa",
   "metadata": {},
   "source": [
    "- Hipótesis nula (Ho): No hay diferencia significativa entre los métodos de muestreo en términos de la métrica evaluada.\n",
    "- Hipótesis alternativa (Ha): Hay una diferencia significativa entre los métodos de muestreo en términos de la métrica evaluada."
   ]
  },
  {
   "cell_type": "code",
   "execution_count": 44,
   "id": "2509a9d6",
   "metadata": {},
   "outputs": [
    {
     "name": "stdout",
     "output_type": "stream",
     "text": [
      "Prueba de Wilcoxon pareada:\n",
      "Estadística de prueba: 0.0\n",
      "Valor p: 0.0625\n",
      "No se rechaza la hipótesis nula. No hay suficiente evidencia para decir que hay una diferencia significativa entre los métodos de muestreo.\n"
     ]
    }
   ],
   "source": [
    "from scipy.stats import wilcoxon\n",
    "\n",
    "# Métricas de oversampling y undersampling\n",
    "oversampling_metric = oversampling_scores['test_accuracy']\n",
    "undersampling_metric = undersampling_scores['test_accuracy']\n",
    "\n",
    "# Wilcoxon pareada\n",
    "stat, p_value = wilcoxon(oversampling_metric, undersampling_metric)\n",
    "\n",
    "# Imprimir el resultado de la prueba\n",
    "print(\"Prueba de Wilcoxon pareada:\")\n",
    "print(f\"Estadística de prueba: {stat}\")\n",
    "print(f\"Valor p: {p_value}\")\n",
    "\n",
    "# Interpretar el resultado\n",
    "if p_value < 0.05:\n",
    "    print(\"Se rechaza la hipótesis nula. Hay evidencia suficiente para decir que hay una diferencia significativa entre los métodos de muestreo.\")\n",
    "else:\n",
    "    print(\"No se rechaza la hipótesis nula. No hay suficiente evidencia para decir que hay una diferencia significativa entre los métodos de muestreo.\")\n"
   ]
  },
  {
   "cell_type": "markdown",
   "id": "1e83e93f",
   "metadata": {},
   "source": [
    "# Modelo de regresión categórica"
   ]
  },
  {
   "cell_type": "code",
   "execution_count": 45,
   "id": "536eee7b",
   "metadata": {},
   "outputs": [
    {
     "name": "stdout",
     "output_type": "stream",
     "text": [
      "Requirement already satisfied: mord in c:\\users\\emilia\\anaconda3\\lib\\site-packages (0.7)\n",
      "Note: you may need to restart the kernel to use updated packages.\n"
     ]
    }
   ],
   "source": [
    "pip install mord"
   ]
  },
  {
   "cell_type": "code",
   "execution_count": 46,
   "id": "e01b8641",
   "metadata": {},
   "outputs": [],
   "source": [
    "df_undersampled = pd.get_dummies(df_undersampled, prefix_sep='_', drop_first=True)\n",
    "df_undersampled\n",
    "from pathlib import Path\n",
    "\n",
    "import numpy as np\n",
    "import pandas as pd\n",
    "from sklearn.linear_model import LogisticRegression, LogisticRegressionCV\n",
    "from sklearn.model_selection import train_test_split\n",
    "import statsmodels.api as sm\n",
    "\n",
    "from mord import LogisticIT\n",
    "import matplotlib.pylab as plt\n",
    "from dmba import classificationSummary, gainsChart, liftChart\n",
    "from dmba.metric import AIC_score\n"
   ]
  },
  {
   "cell_type": "code",
   "execution_count": 47,
   "id": "294d9e56",
   "metadata": {},
   "outputs": [
    {
     "name": "stdout",
     "output_type": "stream",
     "text": [
      "Set de entrenamiento   :  (369, 18)\n",
      "Set de validacion      :  (49, 18)\n",
      "Set de prueba          :  (74, 18)\n"
     ]
    }
   ],
   "source": [
    "y = df_undersampled['Stroke_1']\n",
    " \n",
    "X = df_undersampled.drop(columns=['Stroke_1'])\n",
    "\n",
    "X_train, X_temp, y_train, y_temp = train_test_split(X, y, test_size=0.25, random_state=1)\n",
    "X_valid, X_test, y_valid, y_test = train_test_split(X_temp, y_temp, test_size=0.6, random_state=1)\n",
    "\n",
    "print('Set de entrenamiento   : ', X_train.shape)\n",
    "print('Set de validacion      : ', X_valid.shape)\n",
    "print('Set de prueba          : ', X_test.shape)"
   ]
  },
  {
   "cell_type": "code",
   "execution_count": 48,
   "id": "88e45123",
   "metadata": {},
   "outputs": [
    {
     "name": "stdout",
     "output_type": "stream",
     "text": [
      "intercept  -6.438092025376312\n",
      "       Avg_glucose_level      Bmi     Age        Income  Children  \\\n",
      "coeff           0.004423  0.01586  0.0949 -2.495283e-07 -0.137489   \n",
      "\n",
      "       Hypertension_1  Heart_Disease_1  Married_Yes  Work_Never_worked  \\\n",
      "coeff        0.401861         0.820359    -0.230908                0.0   \n",
      "\n",
      "       Work_Private  Work_Self-employed  Work_children  Residence_Urban  \\\n",
      "coeff      0.359238            0.615236        1.65494         0.187067   \n",
      "\n",
      "       Smoking_formerly smoked  Smoking_never smoked  Smoking_smokes  \\\n",
      "coeff                 0.791857             -0.138857         0.42182   \n",
      "\n",
      "       Gender_Male  Gender_Other  \n",
      "coeff    -0.456813     -4.116319  \n"
     ]
    },
    {
     "name": "stderr",
     "output_type": "stream",
     "text": [
      "C:\\Users\\Emilia\\anaconda3\\lib\\site-packages\\scipy\\optimize\\linesearch.py:478: LineSearchWarning: The line search algorithm did not converge\n",
      "  warn('The line search algorithm did not converge', LineSearchWarning)\n",
      "C:\\Users\\Emilia\\anaconda3\\lib\\site-packages\\scipy\\optimize\\linesearch.py:327: LineSearchWarning: The line search algorithm did not converge\n",
      "  warn('The line search algorithm did not converge', LineSearchWarning)\n",
      "C:\\Users\\Emilia\\anaconda3\\lib\\site-packages\\sklearn\\utils\\optimize.py:246: ConvergenceWarning: newton-cg failed to converge. Increase the number of iterations.\n",
      "  warnings.warn(\n"
     ]
    }
   ],
   "source": [
    "# fit a logistic regression\n",
    "# penalty= penalty for coefficient values (\"l1\", \"l2\", None)\n",
    "logit_reg = LogisticRegression(penalty= None, solver='newton-cg')\n",
    "logit_reg.fit(X_train, y_train)\n",
    "\n",
    "print('intercept ', logit_reg.intercept_[0])\n",
    "print(pd.DataFrame({'coeff': logit_reg.coef_[0]}, index=X.columns).transpose())"
   ]
  },
  {
   "cell_type": "code",
   "execution_count": 49,
   "id": "d6bd2251",
   "metadata": {
    "scrolled": true
   },
   "outputs": [
    {
     "data": {
      "text/html": [
       "<div>\n",
       "<style scoped>\n",
       "    .dataframe tbody tr th:only-of-type {\n",
       "        vertical-align: middle;\n",
       "    }\n",
       "\n",
       "    .dataframe tbody tr th {\n",
       "        vertical-align: top;\n",
       "    }\n",
       "\n",
       "    .dataframe thead th {\n",
       "        text-align: right;\n",
       "    }\n",
       "</style>\n",
       "<table border=\"1\" class=\"dataframe\">\n",
       "  <thead>\n",
       "    <tr style=\"text-align: right;\">\n",
       "      <th></th>\n",
       "      <th>actual</th>\n",
       "      <th>p(0)</th>\n",
       "      <th>p(1)</th>\n",
       "      <th>predicted</th>\n",
       "    </tr>\n",
       "  </thead>\n",
       "  <tbody>\n",
       "    <tr>\n",
       "      <th>175</th>\n",
       "      <td>1</td>\n",
       "      <td>0.124959</td>\n",
       "      <td>0.875041</td>\n",
       "      <td>1</td>\n",
       "    </tr>\n",
       "    <tr>\n",
       "      <th>200</th>\n",
       "      <td>1</td>\n",
       "      <td>0.231050</td>\n",
       "      <td>0.768950</td>\n",
       "      <td>1</td>\n",
       "    </tr>\n",
       "    <tr>\n",
       "      <th>1307</th>\n",
       "      <td>0</td>\n",
       "      <td>0.960827</td>\n",
       "      <td>0.039173</td>\n",
       "      <td>0</td>\n",
       "    </tr>\n",
       "    <tr>\n",
       "      <th>188</th>\n",
       "      <td>1</td>\n",
       "      <td>0.088346</td>\n",
       "      <td>0.911654</td>\n",
       "      <td>1</td>\n",
       "    </tr>\n",
       "    <tr>\n",
       "      <th>1443</th>\n",
       "      <td>0</td>\n",
       "      <td>0.114566</td>\n",
       "      <td>0.885434</td>\n",
       "      <td>1</td>\n",
       "    </tr>\n",
       "    <tr>\n",
       "      <th>1792</th>\n",
       "      <td>0</td>\n",
       "      <td>0.933357</td>\n",
       "      <td>0.066643</td>\n",
       "      <td>0</td>\n",
       "    </tr>\n",
       "    <tr>\n",
       "      <th>1093</th>\n",
       "      <td>0</td>\n",
       "      <td>0.986061</td>\n",
       "      <td>0.013939</td>\n",
       "      <td>0</td>\n",
       "    </tr>\n",
       "    <tr>\n",
       "      <th>35</th>\n",
       "      <td>1</td>\n",
       "      <td>0.011534</td>\n",
       "      <td>0.988466</td>\n",
       "      <td>1</td>\n",
       "    </tr>\n",
       "    <tr>\n",
       "      <th>5049</th>\n",
       "      <td>0</td>\n",
       "      <td>0.899233</td>\n",
       "      <td>0.100767</td>\n",
       "      <td>0</td>\n",
       "    </tr>\n",
       "    <tr>\n",
       "      <th>4901</th>\n",
       "      <td>0</td>\n",
       "      <td>0.979950</td>\n",
       "      <td>0.020050</td>\n",
       "      <td>0</td>\n",
       "    </tr>\n",
       "    <tr>\n",
       "      <th>478</th>\n",
       "      <td>0</td>\n",
       "      <td>0.237878</td>\n",
       "      <td>0.762122</td>\n",
       "      <td>1</td>\n",
       "    </tr>\n",
       "    <tr>\n",
       "      <th>282</th>\n",
       "      <td>0</td>\n",
       "      <td>0.976661</td>\n",
       "      <td>0.023339</td>\n",
       "      <td>0</td>\n",
       "    </tr>\n",
       "    <tr>\n",
       "      <th>272</th>\n",
       "      <td>0</td>\n",
       "      <td>0.099778</td>\n",
       "      <td>0.900222</td>\n",
       "      <td>1</td>\n",
       "    </tr>\n",
       "    <tr>\n",
       "      <th>3978</th>\n",
       "      <td>0</td>\n",
       "      <td>0.987213</td>\n",
       "      <td>0.012787</td>\n",
       "      <td>0</td>\n",
       "    </tr>\n",
       "    <tr>\n",
       "      <th>67</th>\n",
       "      <td>1</td>\n",
       "      <td>0.242804</td>\n",
       "      <td>0.757196</td>\n",
       "      <td>1</td>\n",
       "    </tr>\n",
       "    <tr>\n",
       "      <th>2346</th>\n",
       "      <td>0</td>\n",
       "      <td>0.982793</td>\n",
       "      <td>0.017207</td>\n",
       "      <td>0</td>\n",
       "    </tr>\n",
       "    <tr>\n",
       "      <th>176</th>\n",
       "      <td>1</td>\n",
       "      <td>0.105036</td>\n",
       "      <td>0.894964</td>\n",
       "      <td>1</td>\n",
       "    </tr>\n",
       "    <tr>\n",
       "      <th>149</th>\n",
       "      <td>1</td>\n",
       "      <td>0.092505</td>\n",
       "      <td>0.907495</td>\n",
       "      <td>1</td>\n",
       "    </tr>\n",
       "    <tr>\n",
       "      <th>233</th>\n",
       "      <td>1</td>\n",
       "      <td>0.022515</td>\n",
       "      <td>0.977485</td>\n",
       "      <td>1</td>\n",
       "    </tr>\n",
       "    <tr>\n",
       "      <th>872</th>\n",
       "      <td>0</td>\n",
       "      <td>0.978195</td>\n",
       "      <td>0.021805</td>\n",
       "      <td>0</td>\n",
       "    </tr>\n",
       "    <tr>\n",
       "      <th>122</th>\n",
       "      <td>1</td>\n",
       "      <td>0.069637</td>\n",
       "      <td>0.930363</td>\n",
       "      <td>1</td>\n",
       "    </tr>\n",
       "    <tr>\n",
       "      <th>3893</th>\n",
       "      <td>0</td>\n",
       "      <td>0.624580</td>\n",
       "      <td>0.375420</td>\n",
       "      <td>0</td>\n",
       "    </tr>\n",
       "    <tr>\n",
       "      <th>2590</th>\n",
       "      <td>0</td>\n",
       "      <td>0.931386</td>\n",
       "      <td>0.068614</td>\n",
       "      <td>0</td>\n",
       "    </tr>\n",
       "    <tr>\n",
       "      <th>226</th>\n",
       "      <td>1</td>\n",
       "      <td>0.101237</td>\n",
       "      <td>0.898763</td>\n",
       "      <td>1</td>\n",
       "    </tr>\n",
       "    <tr>\n",
       "      <th>1740</th>\n",
       "      <td>0</td>\n",
       "      <td>0.727853</td>\n",
       "      <td>0.272147</td>\n",
       "      <td>0</td>\n",
       "    </tr>\n",
       "    <tr>\n",
       "      <th>3540</th>\n",
       "      <td>0</td>\n",
       "      <td>0.962612</td>\n",
       "      <td>0.037388</td>\n",
       "      <td>0</td>\n",
       "    </tr>\n",
       "    <tr>\n",
       "      <th>145</th>\n",
       "      <td>1</td>\n",
       "      <td>0.181138</td>\n",
       "      <td>0.818862</td>\n",
       "      <td>1</td>\n",
       "    </tr>\n",
       "    <tr>\n",
       "      <th>87</th>\n",
       "      <td>1</td>\n",
       "      <td>0.073465</td>\n",
       "      <td>0.926535</td>\n",
       "      <td>1</td>\n",
       "    </tr>\n",
       "    <tr>\n",
       "      <th>113</th>\n",
       "      <td>1</td>\n",
       "      <td>0.588786</td>\n",
       "      <td>0.411214</td>\n",
       "      <td>0</td>\n",
       "    </tr>\n",
       "    <tr>\n",
       "      <th>162</th>\n",
       "      <td>1</td>\n",
       "      <td>0.980414</td>\n",
       "      <td>0.019586</td>\n",
       "      <td>0</td>\n",
       "    </tr>\n",
       "    <tr>\n",
       "      <th>80</th>\n",
       "      <td>1</td>\n",
       "      <td>0.552845</td>\n",
       "      <td>0.447155</td>\n",
       "      <td>0</td>\n",
       "    </tr>\n",
       "    <tr>\n",
       "      <th>2743</th>\n",
       "      <td>0</td>\n",
       "      <td>0.749308</td>\n",
       "      <td>0.250692</td>\n",
       "      <td>0</td>\n",
       "    </tr>\n",
       "    <tr>\n",
       "      <th>120</th>\n",
       "      <td>1</td>\n",
       "      <td>0.404398</td>\n",
       "      <td>0.595602</td>\n",
       "      <td>1</td>\n",
       "    </tr>\n",
       "    <tr>\n",
       "      <th>131</th>\n",
       "      <td>1</td>\n",
       "      <td>0.075106</td>\n",
       "      <td>0.924894</td>\n",
       "      <td>1</td>\n",
       "    </tr>\n",
       "    <tr>\n",
       "      <th>1278</th>\n",
       "      <td>0</td>\n",
       "      <td>0.937283</td>\n",
       "      <td>0.062717</td>\n",
       "      <td>0</td>\n",
       "    </tr>\n",
       "    <tr>\n",
       "      <th>182</th>\n",
       "      <td>1</td>\n",
       "      <td>0.923759</td>\n",
       "      <td>0.076241</td>\n",
       "      <td>0</td>\n",
       "    </tr>\n",
       "    <tr>\n",
       "      <th>4796</th>\n",
       "      <td>0</td>\n",
       "      <td>0.248213</td>\n",
       "      <td>0.751787</td>\n",
       "      <td>1</td>\n",
       "    </tr>\n",
       "    <tr>\n",
       "      <th>4185</th>\n",
       "      <td>0</td>\n",
       "      <td>0.130474</td>\n",
       "      <td>0.869526</td>\n",
       "      <td>1</td>\n",
       "    </tr>\n",
       "    <tr>\n",
       "      <th>110</th>\n",
       "      <td>1</td>\n",
       "      <td>0.037431</td>\n",
       "      <td>0.962569</td>\n",
       "      <td>1</td>\n",
       "    </tr>\n",
       "    <tr>\n",
       "      <th>329</th>\n",
       "      <td>0</td>\n",
       "      <td>0.946848</td>\n",
       "      <td>0.053152</td>\n",
       "      <td>0</td>\n",
       "    </tr>\n",
       "    <tr>\n",
       "      <th>4744</th>\n",
       "      <td>0</td>\n",
       "      <td>0.976424</td>\n",
       "      <td>0.023576</td>\n",
       "      <td>0</td>\n",
       "    </tr>\n",
       "    <tr>\n",
       "      <th>211</th>\n",
       "      <td>1</td>\n",
       "      <td>0.641094</td>\n",
       "      <td>0.358906</td>\n",
       "      <td>0</td>\n",
       "    </tr>\n",
       "    <tr>\n",
       "      <th>167</th>\n",
       "      <td>1</td>\n",
       "      <td>0.146119</td>\n",
       "      <td>0.853881</td>\n",
       "      <td>1</td>\n",
       "    </tr>\n",
       "    <tr>\n",
       "      <th>105</th>\n",
       "      <td>1</td>\n",
       "      <td>0.487090</td>\n",
       "      <td>0.512910</td>\n",
       "      <td>1</td>\n",
       "    </tr>\n",
       "    <tr>\n",
       "      <th>2598</th>\n",
       "      <td>0</td>\n",
       "      <td>0.687459</td>\n",
       "      <td>0.312541</td>\n",
       "      <td>0</td>\n",
       "    </tr>\n",
       "    <tr>\n",
       "      <th>2059</th>\n",
       "      <td>0</td>\n",
       "      <td>0.121342</td>\n",
       "      <td>0.878658</td>\n",
       "      <td>1</td>\n",
       "    </tr>\n",
       "    <tr>\n",
       "      <th>2833</th>\n",
       "      <td>0</td>\n",
       "      <td>0.746879</td>\n",
       "      <td>0.253121</td>\n",
       "      <td>0</td>\n",
       "    </tr>\n",
       "    <tr>\n",
       "      <th>183</th>\n",
       "      <td>1</td>\n",
       "      <td>0.142704</td>\n",
       "      <td>0.857296</td>\n",
       "      <td>1</td>\n",
       "    </tr>\n",
       "    <tr>\n",
       "      <th>4286</th>\n",
       "      <td>0</td>\n",
       "      <td>0.976853</td>\n",
       "      <td>0.023147</td>\n",
       "      <td>0</td>\n",
       "    </tr>\n",
       "  </tbody>\n",
       "</table>\n",
       "</div>"
      ],
      "text/plain": [
       "      actual      p(0)      p(1)  predicted\n",
       "175        1  0.124959  0.875041          1\n",
       "200        1  0.231050  0.768950          1\n",
       "1307       0  0.960827  0.039173          0\n",
       "188        1  0.088346  0.911654          1\n",
       "1443       0  0.114566  0.885434          1\n",
       "1792       0  0.933357  0.066643          0\n",
       "1093       0  0.986061  0.013939          0\n",
       "35         1  0.011534  0.988466          1\n",
       "5049       0  0.899233  0.100767          0\n",
       "4901       0  0.979950  0.020050          0\n",
       "478        0  0.237878  0.762122          1\n",
       "282        0  0.976661  0.023339          0\n",
       "272        0  0.099778  0.900222          1\n",
       "3978       0  0.987213  0.012787          0\n",
       "67         1  0.242804  0.757196          1\n",
       "2346       0  0.982793  0.017207          0\n",
       "176        1  0.105036  0.894964          1\n",
       "149        1  0.092505  0.907495          1\n",
       "233        1  0.022515  0.977485          1\n",
       "872        0  0.978195  0.021805          0\n",
       "122        1  0.069637  0.930363          1\n",
       "3893       0  0.624580  0.375420          0\n",
       "2590       0  0.931386  0.068614          0\n",
       "226        1  0.101237  0.898763          1\n",
       "1740       0  0.727853  0.272147          0\n",
       "3540       0  0.962612  0.037388          0\n",
       "145        1  0.181138  0.818862          1\n",
       "87         1  0.073465  0.926535          1\n",
       "113        1  0.588786  0.411214          0\n",
       "162        1  0.980414  0.019586          0\n",
       "80         1  0.552845  0.447155          0\n",
       "2743       0  0.749308  0.250692          0\n",
       "120        1  0.404398  0.595602          1\n",
       "131        1  0.075106  0.924894          1\n",
       "1278       0  0.937283  0.062717          0\n",
       "182        1  0.923759  0.076241          0\n",
       "4796       0  0.248213  0.751787          1\n",
       "4185       0  0.130474  0.869526          1\n",
       "110        1  0.037431  0.962569          1\n",
       "329        0  0.946848  0.053152          0\n",
       "4744       0  0.976424  0.023576          0\n",
       "211        1  0.641094  0.358906          0\n",
       "167        1  0.146119  0.853881          1\n",
       "105        1  0.487090  0.512910          1\n",
       "2598       0  0.687459  0.312541          0\n",
       "2059       0  0.121342  0.878658          1\n",
       "2833       0  0.746879  0.253121          0\n",
       "183        1  0.142704  0.857296          1\n",
       "4286       0  0.976853  0.023147          0"
      ]
     },
     "execution_count": 49,
     "metadata": {},
     "output_type": "execute_result"
    }
   ],
   "source": [
    "# Predict the classes from the validation set\n",
    "# A default probability threshold of 0.5 is used\n",
    "logit_reg_pred = logit_reg.predict(X_valid)\n",
    "\n",
    "# Returns the probabilities of the validation set\n",
    "# Returns an array with size (num observations, num classes)\n",
    "logit_reg_proba = logit_reg.predict_proba(X_valid)\n",
    "\n",
    "\n",
    "logit_result = pd.DataFrame({'actual': y_valid, \n",
    "                             'p(0)': [p[0] for p in logit_reg_proba],\n",
    "                             'p(1)': [p[1] for p in logit_reg_proba],\n",
    "                             'predicted': logit_reg_pred })\n",
    "\n",
    "logit_result\n",
    "#(Martín-Baos, García-Ródenas, & Rodriguez-Benitez, 2021)"
   ]
  },
  {
   "cell_type": "code",
   "execution_count": 50,
   "id": "06f4e66b",
   "metadata": {},
   "outputs": [
    {
     "name": "stdout",
     "output_type": "stream",
     "text": [
      "Confusion Matrix (Accuracy 0.8130)\n",
      "\n",
      "       Prediction\n",
      "Actual   0   1\n",
      "     0 137  39\n",
      "     1  30 163\n",
      "Confusion Matrix (Accuracy 0.7755)\n",
      "\n",
      "       Prediction\n",
      "Actual  0  1\n",
      "     0 20  6\n",
      "     1  5 18\n"
     ]
    }
   ],
   "source": [
    "classificationSummary(y_train, logit_reg.predict(X_train))\n",
    "classificationSummary(y_valid, logit_reg.predict(X_valid))\n",
    "# (Pierian Training, 2023)"
   ]
  },
  {
   "cell_type": "code",
   "execution_count": 51,
   "id": "f24a8c5d",
   "metadata": {
    "scrolled": false
   },
   "outputs": [
    {
     "name": "stdout",
     "output_type": "stream",
     "text": [
      "Métricas para el conjunto de entrenamiento:\n",
      "Matriz de confusión:\n",
      "[[137  39]\n",
      " [ 30 163]]\n",
      "\n",
      "Exactitud: 0.8130081300813008\n",
      "Precisión: 0.806930693069307\n",
      "Sensibilidad (Recall): 0.844559585492228\n",
      "Especificidad: 0.7784090909090909\n",
      "AUC: 0.8940767781441357\n"
     ]
    },
    {
     "data": {
      "image/png": "[encoded data removed]",
      "text/plain": [
       "<Figure size 576x432 with 1 Axes>"
      ]
     },
     "metadata": {
      "needs_background": "light"
     },
     "output_type": "display_data"
    },
    {
     "name": "stdout",
     "output_type": "stream",
     "text": [
      "\n",
      "Métricas para el conjunto de validación:\n",
      "Matriz de confusión:\n",
      "[[20  6]\n",
      " [ 5 18]]\n",
      "\n",
      "Exactitud: 0.7755102040816326\n",
      "Precisión: 0.75\n",
      "Sensibilidad (Recall): 0.782608695652174\n",
      "Especificidad: 0.7692307692307693\n",
      "AUC: 0.8461538461538463\n"
     ]
    },
    {
     "data": {
      "image/png": "[encoded data removed]",
      "text/plain": [
       "<Figure size 576x432 with 1 Axes>"
      ]
     },
     "metadata": {
      "needs_background": "light"
     },
     "output_type": "display_data"
    },
    {
     "name": "stdout",
     "output_type": "stream",
     "text": [
      "\n",
      "Métricas para el conjunto de prueba:\n",
      "Matriz de confusión:\n",
      "[[34 10]\n",
      " [ 7 23]]\n",
      "\n",
      "Exactitud: 0.7702702702702703\n",
      "Precisión: 0.696969696969697\n",
      "Sensibilidad (Recall): 0.7666666666666667\n",
      "Especificidad: 0.7727272727272727\n",
      "AUC: 0.8545454545454545\n"
     ]
    },
    {
     "data": {
      "image/png": "[encoded data removed]",
      "text/plain": [
       "<Figure size 576x432 with 1 Axes>"
      ]
     },
     "metadata": {
      "needs_background": "light"
     },
     "output_type": "display_data"
    }
   ],
   "source": [
    "from sklearn.metrics import confusion_matrix, accuracy_score, precision_score, recall_score, roc_auc_score, roc_curve\n",
    "\n",
    "# Matriz de confusión\n",
    "def display_confusion_matrix(y_true, y_pred):\n",
    "    cm = confusion_matrix(y_true, y_pred)\n",
    "    print(\"Matriz de confusión:\")\n",
    "    print(cm)\n",
    "\n",
    "# Métricas de evaluación\n",
    "def display_evaluation_metrics(y_true, y_pred, y_proba):\n",
    "    accuracy = accuracy_score(y_true, y_pred)\n",
    "    precision = precision_score(y_true, y_pred)\n",
    "    recall = recall_score(y_true, y_pred)\n",
    "    roc_auc = roc_auc_score(y_true, y_proba[:, 1])\n",
    "    print(\"\\nExactitud:\", accuracy)\n",
    "    print(\"Precisión:\", precision)\n",
    "    print(\"Sensibilidad (Recall):\", recall)\n",
    "    print(\"Especificidad:\", recall_score(y_true, y_pred, pos_label=0))\n",
    "    print(\"AUC:\", roc_auc)\n",
    "\n",
    "# Curva ROC\n",
    "def display_roc_curve(y_true, y_proba):\n",
    "    fpr, tpr, thresholds = roc_curve(y_true, y_proba[:, 1])\n",
    "    plt.figure(figsize=(8, 6))\n",
    "    plt.plot(fpr, tpr, label='ROC Curve (AUC = {:.2f})'.format(roc_auc_score(y_true, y_proba[:, 1])))\n",
    "    plt.plot([0, 1], [0, 1], 'k--')\n",
    "    plt.xlabel('False Positive Rate')\n",
    "    plt.ylabel('True Positive Rate')\n",
    "    plt.title('Receiver Operating Characteristic (ROC) Curve')\n",
    "    plt.legend(loc='lower right')\n",
    "    plt.show()\n",
    "\n",
    "# Calcular y mostrar métricas para el conjunto de entrenamiento\n",
    "print(\"Métricas para el conjunto de entrenamiento:\")\n",
    "display_confusion_matrix(y_train, logit_reg.predict(X_train))\n",
    "display_evaluation_metrics(y_train, logit_reg.predict(X_train), logit_reg.predict_proba(X_train))\n",
    "display_roc_curve(y_train, logit_reg.predict_proba(X_train))\n",
    "\n",
    "# Calcular y mostrar métricas para el conjunto de validación\n",
    "print(\"\\nMétricas para el conjunto de validación:\")\n",
    "display_confusion_matrix(y_valid, logit_reg.predict(X_valid))\n",
    "display_evaluation_metrics(y_valid, logit_reg.predict(X_valid), logit_reg.predict_proba(X_valid))\n",
    "display_roc_curve(y_valid, logit_reg.predict_proba(X_valid))\n",
    "\n",
    "# Calcular y mostrar métricas para el conjunto de prueba\n",
    "print(\"\\nMétricas para el conjunto de prueba:\")\n",
    "display_confusion_matrix(y_test, logit_reg.predict(X_test))\n",
    "display_evaluation_metrics(y_test, logit_reg.predict(X_test), logit_reg.predict_proba(X_test))\n",
    "display_roc_curve(y_test, logit_reg.predict_proba(X_test))\n"
   ]
  },
  {
   "cell_type": "code",
   "execution_count": 52,
   "id": "e768edad",
   "metadata": {},
   "outputs": [
    {
     "data": {
      "image/png": "[encoded data removed]",
      "text/plain": [
       "<Figure size 576x432 with 1 Axes>"
      ]
     },
     "metadata": {
      "needs_background": "light"
     },
     "output_type": "display_data"
    }
   ],
   "source": [
    "# Curva ROC para múltiples conjuntos de datos\n",
    "def display_roc_curve_multi(y_true_list, y_proba_list, labels):\n",
    "    plt.figure(figsize=(8, 6))\n",
    "    for y_true, y_proba, label in zip(y_true_list, y_proba_list, labels):\n",
    "        fpr, tpr, thresholds = roc_curve(y_true, y_proba[:, 1])\n",
    "        plt.plot(fpr, tpr, label='ROC Curve {} (AUC = {:.2f})'.format(label, roc_auc_score(y_true, y_proba[:, 1])))\n",
    "    plt.plot([0, 1], [0, 1], 'k--')\n",
    "    plt.xlabel('False Positive Rate')\n",
    "    plt.ylabel('True Positive Rate')\n",
    "    plt.title('Receiver Operating Characteristic (ROC) Curve')\n",
    "    plt.legend(loc='lower right')\n",
    "    plt.show()\n",
    "\n",
    "# Llamada a la función para mostrar la curva ROC para los conjuntos de entrenamiento, validación y prueba\n",
    "display_roc_curve_multi([y_train, y_valid, y_test], [logit_reg.predict_proba(X_train), logit_reg.predict_proba(X_valid), logit_reg.predict_proba(X_test)], ['Entrenamiento', 'Validación', 'Prueba'])\n"
   ]
  },
  {
   "cell_type": "code",
   "execution_count": 53,
   "id": "d6ce6369",
   "metadata": {},
   "outputs": [],
   "source": [
    "recallE_RC= round(recall_score(y_train, logit_reg.predict(X_train)), 3)\n",
    "recallV_RC = round(recall_score(y_valid, logit_reg.predict(X_valid)), 3)\n",
    "recallT_RC = round(recall_score(y_test, logit_reg.predict(X_test)), 3)"
   ]
  },
  {
   "cell_type": "code",
   "execution_count": 54,
   "id": "bb9964f6",
   "metadata": {},
   "outputs": [
    {
     "name": "stdout",
     "output_type": "stream",
     "text": [
      "0.845 0.783 0.767\n"
     ]
    }
   ],
   "source": [
    "print(recallE_RC, recallV_RC, recallT_RC)"
   ]
  },
  {
   "cell_type": "markdown",
   "id": "17a3c23b",
   "metadata": {},
   "source": [
    "## K nearnest neighbor  - Optimizacion de Hiperparametros"
   ]
  },
  {
   "cell_type": "code",
   "execution_count": 55,
   "id": "b821b301",
   "metadata": {},
   "outputs": [],
   "source": [
    "from sklearn.neighbors import KNeighborsClassifier\n",
    "from sklearn.metrics import accuracy_score"
   ]
  },
  {
   "cell_type": "code",
   "execution_count": 56,
   "id": "b51bce4f",
   "metadata": {},
   "outputs": [
    {
     "name": "stderr",
     "output_type": "stream",
     "text": [
      "C:\\Users\\Emilia\\anaconda3\\lib\\site-packages\\joblib\\externals\\loky\\backend\\context.py:136: UserWarning: Could not find the number of physical cores for the following reason:\n",
      "found 0 physical cores < 1\n",
      "Returning the number of logical cores instead. You can silence this warning by setting LOKY_MAX_CPU_COUNT to the number of cores you want to use.\n",
      "  warnings.warn(\n",
      "  File \"C:\\Users\\Emilia\\anaconda3\\lib\\site-packages\\joblib\\externals\\loky\\backend\\context.py\", line 282, in _count_physical_cores\n",
      "    raise ValueError(f\"found {cpu_count_physical} physical cores < 1\")\n"
     ]
    },
    {
     "data": {
      "image/png": "[encoded data removed]",
      "text/plain": [
       "<Figure size 720x432 with 1 Axes>"
      ]
     },
     "metadata": {
      "needs_background": "light"
     },
     "output_type": "display_data"
    }
   ],
   "source": [
    "k_values = range(1, 57)\n",
    "\n",
    "# Lista para almacenar las precisiones para cada valor de k\n",
    "accuracies = []\n",
    "\n",
    "# Iterar sobre los valores de k\n",
    "for k in k_values:\n",
    "    # Inicializar el clasificador KNN con el valor de k actual\n",
    "    knn = KNeighborsClassifier(n_neighbors=k)\n",
    "    \n",
    "    # Entrenar el modelo\n",
    "    knn.fit(X_train, y_train)\n",
    "    \n",
    "    # Realizar predicciones en el conjunto de prueba\n",
    "    y_pred = knn.predict(X_test)\n",
    "    \n",
    "    # Calcular la precisión del modelo y agregarla a la lista de precisión\n",
    "    accuracy = accuracy_score(y_test, y_pred)\n",
    "    accuracies.append(accuracy)\n",
    "\n",
    "# Crear el gráfico de dispersión\n",
    "plt.figure(figsize=(10, 6))\n",
    "plt.plot(k_values, accuracies, marker='o', linestyle='-')\n",
    "plt.title('Precisión del modelo KNN para diferentes valores de k')\n",
    "plt.xlabel('Valor de k')\n",
    "plt.ylabel('Precisión')\n",
    "plt.xticks(k_values)\n",
    "plt.grid(True)\n",
    "plt.show()"
   ]
  },
  {
   "cell_type": "code",
   "execution_count": 57,
   "id": "0beb0769",
   "metadata": {},
   "outputs": [
    {
     "name": "stdout",
     "output_type": "stream",
     "text": [
      "Mejores parámetros: {'algorithm': 'auto', 'leaf_size': 10, 'metric': 'manhattan', 'n_neighbors': 25, 'weights': 'uniform'}\n",
      "Mejor precisión: 0.6206219918548685\n"
     ]
    }
   ],
   "source": [
    "from sklearn.model_selection import GridSearchCV\n",
    "\n",
    "# Definir la cuadrícula de parámetros a explorar\n",
    "param_grid = {'n_neighbors': range(1, 85),\n",
    "              'weights': ['uniform', 'distance'],\n",
    "              'algorithm': ['auto', 'ball_tree', 'kd_tree', 'brute'],\n",
    "              'leaf_size': [10, 20, 30],\n",
    "              'metric': ['euclidean', 'manhattan']}\n",
    "# Donde P1 = Distancia de manhatan \n",
    "# Donde P2= Distancia Euclidiana\n",
    "# Inicializar el clasificador KNN\n",
    "knn = KNeighborsClassifier()\n",
    "\n",
    "# Inicializar GridSearchCV\n",
    "grid_search = GridSearchCV(knn, param_grid, cv=5, scoring='accuracy')\n",
    "#Mediante validacion cruzada\n",
    "# Ajustar GridSearchCV a los datos\n",
    "grid_search.fit(X_train, y_train)\n",
    "\n",
    "# Imprimir los mejores parámetros encontrados\n",
    "print(\"Mejores parámetros:\", grid_search.best_params_)\n",
    "print(\"Mejor precisión:\", grid_search.best_score_)\n",
    "# (Kang) (Scikit Learn)"
   ]
  },
  {
   "cell_type": "code",
   "execution_count": 58,
   "id": "c9ed6e16",
   "metadata": {},
   "outputs": [
    {
     "name": "stdout",
     "output_type": "stream",
     "text": [
      "\n",
      "Conjunto de entrenamiento:\n",
      "Matriz de confusión:\n",
      "[[ 94  82]\n",
      " [ 57 136]]\n",
      "Exactitud: 0.6233062330623306\n",
      "Precisión: 0.6238532110091743\n",
      "Sensibilidad (Recall): 0.7046632124352331\n",
      "Especificidad: 0.5340909090909091\n",
      "AUC: 0.6521137541215261\n",
      "\n",
      "Conjunto de validación:\n",
      "Matriz de confusión:\n",
      "[[ 9 17]\n",
      " [11 12]]\n",
      "Exactitud: 0.42857142857142855\n",
      "Precisión: 0.41379310344827586\n",
      "Sensibilidad (Recall): 0.5217391304347826\n",
      "Especificidad: 0.34615384615384615\n",
      "AUC: 0.47909698996655514\n",
      "\n",
      "Conjunto de prueba:\n",
      "Matriz de confusión:\n",
      "[[20 24]\n",
      " [14 16]]\n",
      "Exactitud: 0.4864864864864865\n",
      "Precisión: 0.4\n",
      "Sensibilidad (Recall): 0.5333333333333333\n",
      "Especificidad: 0.45454545454545453\n",
      "AUC: 0.49356060606060603\n"
     ]
    },
    {
     "data": {
      "image/png": "[encoded data removed]",
      "text/plain": [
       "<Figure size 576x432 with 1 Axes>"
      ]
     },
     "metadata": {
      "needs_background": "light"
     },
     "output_type": "display_data"
    }
   ],
   "source": [
    "# Obtener el mejor modelo del GridSearchCV\n",
    "best_knn_model = grid_search.best_estimator_\n",
    "\n",
    "# Realizar predicciones en el conjunto de entrenamiento\n",
    "y_pred_train = best_knn_model.predict(X_train)\n",
    "y_proba_train = best_knn_model.predict_proba(X_train)\n",
    "\n",
    "# Realizar predicciones en el conjunto de validación\n",
    "y_pred_valid = best_knn_model.predict(X_valid)\n",
    "y_proba_valid = best_knn_model.predict_proba(X_valid)\n",
    "\n",
    "# Realizar predicciones en el conjunto de prueba\n",
    "y_pred_test = best_knn_model.predict(X_test)\n",
    "y_proba_test = best_knn_model.predict_proba(X_test)\n",
    "\n",
    "# Función para calcular la curva ROC y mostrarla\n",
    "def display_roc_curve(y_true, y_proba, title):\n",
    "    fpr, tpr, thresholds = roc_curve(y_true, y_proba[:, 1])\n",
    "    auc = roc_auc_score(y_true, y_proba[:, 1])\n",
    "    plt.plot(fpr, tpr, label=f'{title} (AUC = {auc:.2f})')\n",
    "\n",
    "# Función para mostrar la matriz de confusión y otras métricas\n",
    "def display_evaluation_metrics(y_true, y_pred, y_proba, title):\n",
    "    print(f'\\nConjunto de {title}:')\n",
    "    print('Matriz de confusión:')\n",
    "    print(confusion_matrix(y_true, y_pred))\n",
    "    print('Exactitud:', accuracy_score(y_true, y_pred))\n",
    "    print('Precisión:', precision_score(y_true, y_pred))\n",
    "    print('Sensibilidad (Recall):', recall_score(y_true, y_pred))\n",
    "    print('Especificidad:', recall_score(y_true, y_pred, pos_label=0))\n",
    "    print('AUC:', roc_auc_score(y_true, y_proba[:, 1]))\n",
    "\n",
    "# Calcular y mostrar métricas para el conjunto de entrenamiento\n",
    "display_evaluation_metrics(y_train, y_pred_train, y_proba_train, 'entrenamiento')\n",
    "\n",
    "# Calcular y mostrar métricas para el conjunto de validación\n",
    "display_evaluation_metrics(y_valid, y_pred_valid, y_proba_valid, 'validación')\n",
    "\n",
    "# Calcular y mostrar métricas para el conjunto de prueba\n",
    "display_evaluation_metrics(y_test, y_pred_test, y_proba_test, 'prueba')\n",
    "\n",
    "# Mostrar la curva ROC para los tres conjuntos\n",
    "plt.figure(figsize=(8, 6))\n",
    "display_roc_curve(y_train, y_proba_train, 'Entrenamiento')\n",
    "display_roc_curve(y_valid, y_proba_valid, 'Validación')\n",
    "display_roc_curve(y_test, y_proba_test, 'Prueba')\n",
    "plt.plot([0, 1], [0, 1], 'k--')\n",
    "plt.xlabel('Tasa de falsos positivos')\n",
    "plt.ylabel('Tasa de verdaderos positivos')\n",
    "plt.title('Curva ROC')\n",
    "plt.legend()\n",
    "plt.show()"
   ]
  },
  {
   "cell_type": "code",
   "execution_count": 59,
   "id": "94f55050",
   "metadata": {},
   "outputs": [],
   "source": [
    "recallE_KN= round(recall_score(y_train, y_pred_train), 3)\n",
    "recallV_KN = round(recall_score(y_valid, y_pred_valid), 3)\n",
    "recallT_KN = round(recall_score(y_test, y_pred_test), 3)"
   ]
  },
  {
   "cell_type": "code",
   "execution_count": 60,
   "id": "6ab2cf06",
   "metadata": {},
   "outputs": [
    {
     "name": "stdout",
     "output_type": "stream",
     "text": [
      "0.705 0.522 0.533\n"
     ]
    }
   ],
   "source": [
    "print(recallE_KN, recallV_KN, recallT_KN)"
   ]
  },
  {
   "cell_type": "markdown",
   "id": "2931f261",
   "metadata": {},
   "source": [
    "# Random forest - ensamble e hiperparametros"
   ]
  },
  {
   "cell_type": "code",
   "execution_count": 61,
   "id": "d28402af",
   "metadata": {},
   "outputs": [],
   "source": [
    "#pip install scikit-optimize"
   ]
  },
  {
   "cell_type": "code",
   "execution_count": 62,
   "id": "503ef9be",
   "metadata": {},
   "outputs": [],
   "source": [
    "#pip install --upgrade scikit-learn scikit-optimize"
   ]
  },
  {
   "cell_type": "code",
   "execution_count": 63,
   "id": "65c18c51",
   "metadata": {},
   "outputs": [
    {
     "name": "stdout",
     "output_type": "stream",
     "text": [
      "Mejores hiperparámetros encontrados:\n",
      "OrderedDict([('max_depth', 7), ('min_samples_leaf', 1), ('min_samples_split', 17), ('n_estimators', 39)])\n",
      "Exactitud en el conjunto de prueba: 0.7702702702702703\n"
     ]
    }
   ],
   "source": [
    "from skopt import BayesSearchCV\n",
    "from sklearn.model_selection import StratifiedKFold\n",
    "from sklearn.ensemble import RandomForestClassifier\n",
    "from sklearn.metrics import accuracy_score\n",
    "\n",
    "# Define el espacio de búsqueda de hiperparámetros\n",
    "param_space = {\n",
    "    'n_estimators': (10, 200),  # Rango de valores para el número de estimadores\n",
    "    'max_depth': (2, 10),        # Rango de valores para la profundidad máxima del árbol\n",
    "    'min_samples_split': (2, 20),# Rango de valores para el número mínimo de muestras requeridas para dividir un nodo interno\n",
    "    'min_samples_leaf': (1, 10), # Rango de valores para el número mínimo de muestras requeridas para estar en un nodo hoja\n",
    "}\n",
    "\n",
    "# Inicializa el modelo de clasificación\n",
    "rf = RandomForestClassifier(random_state=42)\n",
    "\n",
    "# Inicializa el BayesSearchCV con el modelo y el espacio de búsqueda de hiperparámetros\n",
    "bayes_cv = BayesSearchCV(\n",
    "    estimator=rf,\n",
    "    search_spaces=param_space,\n",
    "    n_iter=50,    # Número de iteraciones para la búsqueda\n",
    "    cv=StratifiedKFold(n_splits=5),  # Validación cruzada estratificada\n",
    "    scoring='accuracy',  # Métrica de evaluación\n",
    "    random_state=42\n",
    ")\n",
    "\n",
    "# Realiza la búsqueda de hiperparámetros utilizando el conjunto de entrenamiento\n",
    "bayes_cv.fit(X_train, y_train)\n",
    "\n",
    "# Muestra los mejores hiperparámetros encontrados\n",
    "print(\"Mejores hiperparámetros encontrados:\")\n",
    "print(bayes_cv.best_params_)\n",
    "\n",
    "# Evalúa el modelo con los mejores hiperparámetros en el conjunto de prueba\n",
    "y_pred = bayes_cv.predict(X_test)\n",
    "accuracy = accuracy_score(y_test, y_pred)\n",
    "y_proba = bayes_cv.predict_proba(X_test)\n",
    "print(\"Exactitud en el conjunto de prueba:\", accuracy)\n"
   ]
  },
  {
   "cell_type": "code",
   "execution_count": 64,
   "id": "79489e6f",
   "metadata": {
    "scrolled": true
   },
   "outputs": [
    {
     "name": "stdout",
     "output_type": "stream",
     "text": [
      "\n",
      "Métricas para el conjunto de entrenamiento:\n",
      "Matriz de confusión:\n",
      "[[146  30]\n",
      " [ 14 179]]\n",
      "\n",
      "Exactitud: 0.8807588075880759\n",
      "Precisión: 0.8564593301435407\n",
      "Sensibilidad (Recall): 0.927461139896373\n",
      "Especificidad: 0.8295454545454546\n",
      "AUC: 0.9563707018370231\n"
     ]
    },
    {
     "data": {
      "image/png": "[encoded data removed]",
      "text/plain": [
       "<Figure size 576x432 with 1 Axes>"
      ]
     },
     "metadata": {
      "needs_background": "light"
     },
     "output_type": "display_data"
    },
    {
     "name": "stdout",
     "output_type": "stream",
     "text": [
      "\n",
      "Métricas para el conjunto de validación:\n",
      "Matriz de confusión:\n",
      "[[20  6]\n",
      " [ 5 18]]\n",
      "\n",
      "Exactitud: 0.7755102040816326\n",
      "Precisión: 0.75\n",
      "Sensibilidad (Recall): 0.782608695652174\n",
      "Especificidad: 0.7692307692307693\n",
      "AUC: 0.826086956521739\n"
     ]
    },
    {
     "data": {
      "image/png": "[encoded data removed]",
      "text/plain": [
       "<Figure size 576x432 with 1 Axes>"
      ]
     },
     "metadata": {
      "needs_background": "light"
     },
     "output_type": "display_data"
    },
    {
     "name": "stdout",
     "output_type": "stream",
     "text": [
      "\n",
      "Métricas para el conjunto de prueba:\n",
      "Matriz de confusión:\n",
      "[[32 12]\n",
      " [ 5 25]]\n",
      "\n",
      "Exactitud: 0.7702702702702703\n",
      "Precisión: 0.6756756756756757\n",
      "Sensibilidad (Recall): 0.8333333333333334\n",
      "Especificidad: 0.7272727272727273\n",
      "AUC: 0.853030303030303\n"
     ]
    },
    {
     "data": {
      "image/png": "[encoded data removed]",
      "text/plain": [
       "<Figure size 576x432 with 1 Axes>"
      ]
     },
     "metadata": {
      "needs_background": "light"
     },
     "output_type": "display_data"
    }
   ],
   "source": [
    "# Matriz de confusión\n",
    "def display_confusion_matrix(y_true, y_pred):\n",
    "    cm = confusion_matrix(y_true, y_pred)\n",
    "    print(\"Matriz de confusión:\")\n",
    "    print(cm)\n",
    "\n",
    "# Métricas de evaluación\n",
    "def display_evaluation_metrics(y_true, y_pred, y_proba):\n",
    "    accuracy = accuracy_score(y_true, y_pred)\n",
    "    precision = precision_score(y_true, y_pred)\n",
    "    recall = recall_score(y_true, y_pred)\n",
    "    roc_auc = roc_auc_score(y_true, y_proba[:, 1])\n",
    "    print(\"\\nExactitud:\", accuracy)\n",
    "    print(\"Precisión:\", precision)\n",
    "    print(\"Sensibilidad (Recall):\", recall)\n",
    "    print(\"Especificidad:\", recall_score(y_true, y_pred, pos_label=0))\n",
    "    print(\"AUC:\", roc_auc)\n",
    "\n",
    "# Curva ROC\n",
    "def display_roc_curve(y_true, y_proba):\n",
    "    fpr, tpr, thresholds = roc_curve(y_true, y_proba[:, 1])\n",
    "    plt.figure(figsize=(8, 6))\n",
    "    plt.plot(fpr, tpr, label='ROC Curve (AUC = {:.2f})'.format(roc_auc_score(y_true, y_proba[:, 1])))\n",
    "    plt.plot([0, 1], [0, 1], 'k--')\n",
    "    plt.xlabel('False Positive Rate')\n",
    "    plt.ylabel('True Positive Rate')\n",
    "    plt.title('Receiver Operating Characteristic (ROC) Curve')\n",
    "    plt.legend(loc='lower right')\n",
    "    plt.show()\n",
    "\n",
    "# Calcular y mostrar métricas para el conjunto de prueba\n",
    "print(\"\\nMétricas para el conjunto de entrenamiento:\")\n",
    "display_confusion_matrix(y_train, bayes_cv.predict(X_train))\n",
    "display_evaluation_metrics(y_train, bayes_cv.predict(X_train), bayes_cv.predict_proba(X_train))\n",
    "display_roc_curve(y_train,  bayes_cv.predict_proba(X_train))\n",
    "\n",
    "# Calcular y mostrar métricas para el conjunto de validación\n",
    "print(\"\\nMétricas para el conjunto de validación:\")\n",
    "display_confusion_matrix(y_valid, bayes_cv.predict(X_valid))\n",
    "display_evaluation_metrics(y_valid, bayes_cv.predict(X_valid), bayes_cv.predict_proba(X_valid))\n",
    "display_roc_curve(y_valid,  bayes_cv.predict_proba(X_valid))\n",
    "\n",
    "# Calcular y mostrar métricas para el conjunto de prueba\n",
    "print(\"\\nMétricas para el conjunto de prueba:\")\n",
    "display_confusion_matrix(y_test, bayes_cv.predict(X_test))\n",
    "display_evaluation_metrics(y_test, bayes_cv.predict(X_test), bayes_cv.predict_proba(X_test))\n",
    "display_roc_curve(y_test, bayes_cv.predict_proba(X_test))"
   ]
  },
  {
   "cell_type": "code",
   "execution_count": 65,
   "id": "27f25c15",
   "metadata": {},
   "outputs": [
    {
     "data": {
      "image/png": "[encoded data removed]",
      "text/plain": [
       "<Figure size 576x432 with 1 Axes>"
      ]
     },
     "metadata": {
      "needs_background": "light"
     },
     "output_type": "display_data"
    }
   ],
   "source": [
    "# Curva ROC para múltiples conjuntos de datos\n",
    "def display_roc_curve_multi(y_true_list, y_proba_list, labels):\n",
    "    plt.figure(figsize=(8, 6))\n",
    "    for y_true, y_proba, label in zip(y_true_list, y_proba_list, labels):\n",
    "        fpr, tpr, thresholds = roc_curve(y_true, y_proba[:, 1])\n",
    "        plt.plot(fpr, tpr, label='ROC Curve {} (AUC = {:.2f})'.format(label, roc_auc_score(y_true, y_proba[:, 1])))\n",
    "    plt.plot([0, 1], [0, 1], 'k--')\n",
    "    plt.xlabel('False Positive Rate')\n",
    "    plt.ylabel('True Positive Rate')\n",
    "    plt.title('Receiver Operating Characteristic (ROC) Curve')\n",
    "    plt.legend(loc='lower right')\n",
    "    plt.show()\n",
    "\n",
    "# Llamada a la función para mostrar la curva ROC para los conjuntos de entrenamiento, validación y prueba\n",
    "display_roc_curve_multi([y_train, y_valid, y_test], [bayes_cv.predict_proba(X_train), bayes_cv.predict_proba(X_valid), bayes_cv.predict_proba(X_test)], ['Entrenamiento', 'Validación', 'Prueba'])\n"
   ]
  },
  {
   "cell_type": "code",
   "execution_count": 66,
   "id": "07a4b471",
   "metadata": {},
   "outputs": [],
   "source": [
    "recall_train = recall_score(y_train, bayes_cv.predict(X_train))\n",
    "recall_valid = recall_score(y_valid, bayes_cv.predict(X_valid))\n",
    "recall_test = recall_score(y_test, bayes_cv.predict(X_test))\n",
    "\n",
    "recallE_RF = round(recall_train, 3)\n",
    "recallV_RF = round(recall_valid, 3)\n",
    "recallT_RF = round(recall_test, 3)"
   ]
  },
  {
   "cell_type": "code",
   "execution_count": 67,
   "id": "c592239a",
   "metadata": {},
   "outputs": [
    {
     "name": "stdout",
     "output_type": "stream",
     "text": [
      "0.927 0.783 0.833\n"
     ]
    }
   ],
   "source": [
    "print(recallE_RF, recallV_RF, recallT_RF)"
   ]
  },
  {
   "cell_type": "markdown",
   "id": "114387ca",
   "metadata": {},
   "source": [
    "# xgboost - Nuevo - ensamble"
   ]
  },
  {
   "cell_type": "code",
   "execution_count": 68,
   "id": "e66d588b",
   "metadata": {},
   "outputs": [
    {
     "name": "stdout",
     "output_type": "stream",
     "text": [
      "Requirement already satisfied: xgboost in c:\\users\\emilia\\anaconda3\\lib\\site-packages (2.0.3)\n",
      "Requirement already satisfied: scipy in c:\\users\\emilia\\anaconda3\\lib\\site-packages (from xgboost) (1.7.1)\n",
      "Requirement already satisfied: numpy in c:\\users\\emilia\\anaconda3\\lib\\site-packages (from xgboost) (1.20.3)\n",
      "Note: you may need to restart the kernel to use updated packages.\n"
     ]
    }
   ],
   "source": [
    "pip install xgboost"
   ]
  },
  {
   "cell_type": "code",
   "execution_count": 69,
   "id": "18bcae02",
   "metadata": {
    "scrolled": false
   },
   "outputs": [
    {
     "name": "stdout",
     "output_type": "stream",
     "text": [
      "Accuracy: 0.7702702702702703\n",
      "Precision: 0.6756756756756757\n",
      "Recall: 0.8333333333333334\n",
      "F1-score: 0.746268656716418\n",
      "\n",
      "Métricas para el conjunto de entrenamiento:\n",
      "Matriz de confusión:\n",
      "[[176   0]\n",
      " [  0 193]]\n",
      "Accuracy: 1.0\n",
      "Precision: 1.0\n",
      "Recall: 1.0\n",
      "F1-score: 1.0\n",
      "AUC: 1.0\n",
      "\n",
      "Métricas para el conjunto de validación:\n",
      "Matriz de confusión:\n",
      "[[20  6]\n",
      " [ 5 18]]\n",
      "Accuracy: 0.7755102040816326\n",
      "Precision: 0.75\n",
      "Recall: 0.782608695652174\n",
      "F1-score: 0.7659574468085106\n",
      "AUC: 0.8511705685618729\n",
      "\n",
      "Métricas para el conjunto de prueba:\n",
      "Matriz de confusión:\n",
      "[[32 12]\n",
      " [ 6 24]]\n",
      "Accuracy: 0.7567567567567568\n",
      "Precision: 0.6666666666666666\n",
      "Recall: 0.8\n",
      "F1-score: 0.7272727272727273\n",
      "AUC: 0.8356060606060606\n"
     ]
    },
    {
     "data": {
      "image/png": "[encoded data removed]",
      "text/plain": [
       "<Figure size 432x288 with 1 Axes>"
      ]
     },
     "metadata": {
      "needs_background": "light"
     },
     "output_type": "display_data"
    }
   ],
   "source": [
    "#Importar librerias necesarias\n",
    "import xgboost as xgb\n",
    "from sklearn.metrics import accuracy_score, precision_score, recall_score, f1_score\n",
    "\n",
    "#Inicializar el modelo clasificador de XGBoost\n",
    "model_xgb = xgb.XGBClassifier()\n",
    "\n",
    "# Entrenar el modelo\n",
    "model_xgb.fit(X_train, y_train)\n",
    "# Realizar predicciones\n",
    "# Realizar predicciones\n",
    "y_pred_train = model_xgb.predict(X_train)\n",
    "y_pred_valid = model_xgb.predict(X_valid)\n",
    "y_pred_test = model_xgb.predict(X_test)\n",
    "# Obtener probabilidades para la curva ROC\n",
    "y_proba_train = model_xgb.predict_proba(X_train)\n",
    "y_proba_valid = model_xgb.predict_proba(X_valid)\n",
    "y_proba_test = model_xgb.predict_proba(X_test)\n",
    "\n",
    "# Calcular métricas de evaluación\n",
    "accuracy = accuracy_score(y_test, y_pred)\n",
    "precision = precision_score(y_test, y_pred)\n",
    "recall = recall_score(y_test, y_pred)\n",
    "f1 = f1_score(y_test, y_pred)\n",
    "\n",
    "# Imprimir las métricas de evaluación\n",
    "print(\"Accuracy:\", accuracy)\n",
    "print(\"Precision:\", precision)\n",
    "print(\"Recall:\", recall)\n",
    "print(\"F1-score:\", f1)\n",
    "# Definir función para calcular la curva ROC\n",
    "def display_roc_curve(y_true, y_proba, label):\n",
    "    fpr, tpr, thresholds = roc_curve(y_true, y_proba[:, 1])\n",
    "    plt.plot(fpr, tpr, label=label + ' (AUC = {:.2f})'.format(roc_auc_score(y_true, y_proba[:, 1])))\n",
    "\n",
    "# Calcular y mostrar métricas para el conjunto de entrenamiento\n",
    "print(\"\\nMétricas para el conjunto de entrenamiento:\")\n",
    "print(\"Matriz de confusión:\")\n",
    "print(confusion_matrix(y_train, y_pred_train))\n",
    "print(\"Accuracy:\", accuracy_score(y_train, y_pred_train))\n",
    "print(\"Precision:\", precision_score(y_train, y_pred_train))\n",
    "print(\"Recall:\", recall_score(y_train, y_pred_train))\n",
    "print(\"F1-score:\", f1_score(y_train, y_pred_train))\n",
    "print(\"AUC:\", roc_auc_score(y_train, y_proba_train[:, 1]))\n",
    "display_roc_curve(y_train, y_proba_train, 'Training')\n",
    "\n",
    "# Calcular y mostrar métricas para el conjunto de validación\n",
    "print(\"\\nMétricas para el conjunto de validación:\")\n",
    "print(\"Matriz de confusión:\")\n",
    "print(confusion_matrix(y_valid, y_pred_valid))\n",
    "print(\"Accuracy:\", accuracy_score(y_valid, y_pred_valid))\n",
    "print(\"Precision:\", precision_score(y_valid, y_pred_valid))\n",
    "print(\"Recall:\", recall_score(y_valid, y_pred_valid))\n",
    "print(\"F1-score:\", f1_score(y_valid, y_pred_valid))\n",
    "print(\"AUC:\", roc_auc_score(y_valid, y_proba_valid[:, 1]))\n",
    "display_roc_curve(y_valid, y_proba_valid, 'Validation')\n",
    "\n",
    "# Calcular y mostrar métricas para el conjunto de prueba\n",
    "print(\"\\nMétricas para el conjunto de prueba:\")\n",
    "print(\"Matriz de confusión:\")\n",
    "print(confusion_matrix(y_test, y_pred_test))\n",
    "print(\"Accuracy:\", accuracy_score(y_test, y_pred_test))\n",
    "print(\"Precision:\", precision_score(y_test, y_pred_test))\n",
    "print(\"Recall:\", recall_score(y_test, y_pred_test))\n",
    "print(\"F1-score:\", f1_score(y_test, y_pred_test))\n",
    "print(\"AUC:\", roc_auc_score(y_test, y_proba_test[:, 1]))\n",
    "display_roc_curve(y_test, y_proba_test, 'Test')\n",
    "\n",
    "# Mostrar la curva ROC para los tres conjuntos\n",
    "plt.plot([0, 1], [0, 1], 'k--')\n",
    "plt.xlabel('False Positive Rate')\n",
    "plt.ylabel('True Positive Rate')\n",
    "plt.title('Receiver Operating Characteristic (ROC) Curve')\n",
    "plt.legend()\n",
    "plt.show()"
   ]
  },
  {
   "cell_type": "code",
   "execution_count": 70,
   "id": "72eeb216",
   "metadata": {},
   "outputs": [],
   "source": [
    "# Calcular y mostrar métricas para cada conjunto y guardar el recall\n",
    "recall_train = recall_score(y_train, y_pred_train)\n",
    "recall_valid = recall_score(y_valid, y_pred_valid)\n",
    "recall_test = recall_score(y_test, y_pred_test)\n",
    "\n",
    "recallE_XG = round(recall_train, 3)\n",
    "recallV_XG = round(recall_valid, 3)\n",
    "recallT_XG = round(recall_test, 3)"
   ]
  },
  {
   "cell_type": "code",
   "execution_count": 71,
   "id": "ec339d3a",
   "metadata": {},
   "outputs": [
    {
     "name": "stdout",
     "output_type": "stream",
     "text": [
      "1.0 0.783 0.8\n"
     ]
    }
   ],
   "source": [
    "print(recallE_XG, recallV_XG, recallT_XG)"
   ]
  },
  {
   "cell_type": "markdown",
   "id": "b018505f",
   "metadata": {},
   "source": [
    "## 6.2"
   ]
  },
  {
   "cell_type": "markdown",
   "id": "8a58547d",
   "metadata": {},
   "source": [
    "Se está hablando de un contexto médico donde no se quiere clasificar a una persona enferma como sana pues este error le puede costar la vida. De esta manera, se quiere minimizar los Falsos negativos, el cual es el objetivo de la medida de recall, con la siguiente tabla se puede verificar el conjunto con el valor más alto."
   ]
  },
  {
   "cell_type": "markdown",
   "id": "e9f73591",
   "metadata": {},
   "source": [
    "## 6.3"
   ]
  },
  {
   "cell_type": "code",
   "execution_count": 72,
   "id": "66bcb57c",
   "metadata": {},
   "outputs": [
    {
     "name": "stdout",
     "output_type": "stream",
     "text": [
      "Requirement already satisfied: prettytable in c:\\users\\emilia\\anaconda3\\lib\\site-packages (3.10.0)\n",
      "Requirement already satisfied: wcwidth in c:\\users\\emilia\\anaconda3\\lib\\site-packages (from prettytable) (0.2.5)\n",
      "Note: you may need to restart the kernel to use updated packages.\n"
     ]
    }
   ],
   "source": [
    "pip install prettytable"
   ]
  },
  {
   "cell_type": "code",
   "execution_count": 73,
   "id": "18957c1f",
   "metadata": {
    "scrolled": true
   },
   "outputs": [],
   "source": [
    "import pandas as pd\n",
    "from prettytable import PrettyTable"
   ]
  },
  {
   "cell_type": "code",
   "execution_count": 74,
   "id": "e2be48b6",
   "metadata": {},
   "outputs": [
    {
     "name": "stdout",
     "output_type": "stream",
     "text": [
      "Recall del set de entrenamiento de cada modelo\n",
      "+----------------------+--------+\n",
      "|        Modelo        | Recall |\n",
      "+----------------------+--------+\n",
      "| Regresión Categórica | 0.845  |\n",
      "|         KNN          | 0.705  |\n",
      "|    Random Forest     | 0.927  |\n",
      "|       Xgboost        |  1.0   |\n",
      "+----------------------+--------+\n",
      "\n",
      "Recall del set de validación de cada modelo\n",
      "+----------------------+--------+\n",
      "|        Modelo        | Recall |\n",
      "+----------------------+--------+\n",
      "| Regresión Categórica | 0.783  |\n",
      "|         KNN          | 0.522  |\n",
      "|    Random Forest     | 0.783  |\n",
      "|       Xgboost        | 0.783  |\n",
      "+----------------------+--------+\n",
      "\n",
      "Recall del set de test de cada modelo\n",
      "+----------------------+--------+\n",
      "|        Modelo        | Recall |\n",
      "+----------------------+--------+\n",
      "| Regresión Categórica | 0.767  |\n",
      "|         KNN          | 0.533  |\n",
      "|    Random Forest     | 0.833  |\n",
      "|       Xgboost        |  0.8   |\n",
      "+----------------------+--------+\n"
     ]
    }
   ],
   "source": [
    "# Crear el DataFrame para la tabla Entrenamiento\n",
    "dataE = {\n",
    "    'Modelo': ['Regresión Categórica', 'KNN', 'Random Forest', 'Xgboost'],\n",
    "    'Recall': [recallE_RC, recallE_KN, recallE_RF, recallE_XG]\n",
    "}\n",
    "\n",
    "df_recallE = pd.DataFrame(dataE)\n",
    "\n",
    "# Crear la tabla para Entrenamiento con bordes\n",
    "tablaE = PrettyTable()\n",
    "tablaE.field_names = df_recallE.columns\n",
    "for _, row in df_recallE.iterrows():\n",
    "    tablaE.add_row(row)\n",
    "\n",
    "# Mostrar la tabla para Entrenamiento\n",
    "print(\"Recall del set de entrenamiento de cada modelo\")\n",
    "print(tablaE)\n",
    "\n",
    "# Crear el DataFrame para la tabla Validación\n",
    "dataV = {\n",
    "    'Modelo': ['Regresión Categórica', 'KNN', 'Random Forest', 'Xgboost'],\n",
    "    'Recall': [recallV_RC, recallV_KN, recallV_RF, recallV_XG]\n",
    "}\n",
    "\n",
    "df_recallV = pd.DataFrame(dataV)\n",
    "\n",
    "# Crear la tabla para Validación con bordes\n",
    "tablaV = PrettyTable()\n",
    "tablaV.field_names = df_recallV.columns\n",
    "for _, row in df_recallV.iterrows():\n",
    "    tablaV.add_row(row)\n",
    "\n",
    "# Mostrar la tabla para Validación\n",
    "print(\"\\nRecall del set de validación de cada modelo\")\n",
    "print(tablaV)\n",
    "\n",
    "# Crear el DataFrame para la tabla Test\n",
    "dataT = {\n",
    "    'Modelo': ['Regresión Categórica', 'KNN', 'Random Forest', 'Xgboost'],\n",
    "    'Recall': [recallT_RC, recallT_KN, recallT_RF, recallT_XG]\n",
    "}\n",
    "\n",
    "df_recallT = pd.DataFrame(dataT)\n",
    "\n",
    "# Crear la tabla para Test con bordes\n",
    "tablaT = PrettyTable()\n",
    "tablaT.field_names = df_recallT.columns\n",
    "for _, row in df_recallT.iterrows():\n",
    "    tablaT.add_row(row)\n",
    "\n",
    "# Mostrar la tabla para Test\n",
    "print(\"\\nRecall del set de test de cada modelo\")\n",
    "print(tablaT)\n"
   ]
  },
  {
   "cell_type": "markdown",
   "id": "10490f62",
   "metadata": {},
   "source": [
    "## 6.4"
   ]
  },
  {
   "cell_type": "code",
   "execution_count": 78,
   "id": "c55c05fe",
   "metadata": {},
   "outputs": [
    {
     "name": "stdout",
     "output_type": "stream",
     "text": [
      "Age: 0.3847474939967329\n",
      "Avg_glucose_level: 0.14551320532544748\n",
      "Bmi: 0.1162856712158607\n",
      "Income: 0.11200442525465025\n",
      "Children: 0.03590990596977943\n",
      "Married_Yes: 0.02958822626905454\n",
      "Heart_Disease_1: 0.023359513908072053\n",
      "Hypertension_1: 0.02329297424334315\n",
      "Residence_Urban: 0.018543084705962026\n",
      "Smoking_formerly smoked: 0.017641351495245903\n",
      "Gender_Male: 0.017109277901298032\n",
      "Smoking_never smoked: 0.016240320009190356\n",
      "Work_Self-employed: 0.015821262720602754\n",
      "Smoking_smokes: 0.014827669747473871\n",
      "Work_children: 0.01457251913561712\n",
      "Work_Private: 0.014320365084029873\n",
      "Gender_Other: 0.00017029795949530713\n",
      "Work_Never_worked: 5.24350581442771e-05\n"
     ]
    },
    {
     "data": {
      "image/png": "[encoded data removed]",
      "text/plain": [
       "<Figure size 720x432 with 1 Axes>"
      ]
     },
     "metadata": {
      "needs_background": "light"
     },
     "output_type": "display_data"
    }
   ],
   "source": [
    "import pandas as pd\n",
    "import numpy as np\n",
    "import matplotlib.pyplot as plt\n",
    "from sklearn.ensemble import RandomForestClassifier\n",
    "\n",
    "# Variable de respuesta\n",
    "y = df_undersampled['Stroke_1']\n",
    "\n",
    "# Eliminamos la variable de respuesta del conjunto de características\n",
    "X = df_undersampled.drop(columns=['Stroke_1'])\n",
    "\n",
    "# Creamos el modelo de Random Forest\n",
    "model = RandomForestClassifier(n_estimators=100, random_state=42)\n",
    "\n",
    "# Entrenamos el modelo\n",
    "model.fit(X, y)\n",
    "\n",
    "# Extraemos la importancia de las características\n",
    "importances = model.feature_importances_\n",
    "\n",
    "# Ordenamos las importancias de mayor a menor\n",
    "indices = np.argsort(importances)[::-1]\n",
    "\n",
    "# Obtener nombres de las características\n",
    "feature_names = X.columns\n",
    "\n",
    "\n",
    "# Imprimir los nombres y valores de importancia de las características\n",
    "for i in range(X.shape[1]):\n",
    "    print(f\"{feature_names[indices[i]]}: {importances[indices[i]]}\")\n",
    "\n",
    "# Graficar\n",
    "plt.figure(figsize=(10, 6))\n",
    "plt.title(\"Importancia de las características para predecir 'stroke'\")\n",
    "plt.bar(range(X.shape[1]), importances[indices], align=\"center\")\n",
    "plt.xticks(range(X.shape[1]), feature_names[indices], rotation=90)\n",
    "plt.xlim([-1, X.shape[1]])\n",
    "plt.xlabel(\"Características\")\n",
    "plt.ylabel(\"Importancia\")\n",
    "plt.tight_layout()\n",
    "plt.show()\n"
   ]
  },
  {
   "cell_type": "code",
   "execution_count": 79,
   "id": "a0af7618",
   "metadata": {},
   "outputs": [
    {
     "data": {
      "image/png": "[encoded data removed]",
      "text/plain": [
       "<Figure size 720x432 with 1 Axes>"
      ]
     },
     "metadata": {
      "needs_background": "light"
     },
     "output_type": "display_data"
    }
   ],
   "source": [
    "# Ordenar características importantes por importancia\n",
    "# Filtrar características importantes\n",
    "caracteristicas_importantes = feature_names[importances >= 0.1]\n",
    "importancias_importantes = importances[importances >= 0.1]\n",
    "indices_ordenados = np.argsort(importancias_importantes)[::-1]\n",
    "caracteristicas_importantes = caracteristicas_importantes[indices_ordenados]\n",
    "importancias_importantes = importancias_importantes[indices_ordenados]\n",
    "\n",
    "# Graficar\n",
    "plt.figure(figsize=(10, 6))\n",
    "plt.bar(range(len(caracteristicas_importantes)), importancias_importantes, align=\"center\")\n",
    "plt.xticks(range(len(caracteristicas_importantes)), caracteristicas_importantes, rotation=90)\n",
    "plt.xlabel(\"Características\")\n",
    "plt.ylabel(\"Importancia\")\n",
    "plt.title(\"Importancia de las características importantes para predecir 'stroke'\")\n",
    "plt.tight_layout()\n",
    "plt.show()"
   ]
  },
  {
   "cell_type": "markdown",
   "id": "6a8d72b5",
   "metadata": {},
   "source": [
    "# Bibliografía"
   ]
  },
  {
   "cell_type": "markdown",
   "id": "862e2c2c",
   "metadata": {},
   "source": [
    "- Aristhophane, K., Doffou, J., & Edoété, P. (2020). Method for Automatically Processing Outliers of a Quantitative Variable. Obtenido de International Journal of Advanced Computer Science and Applications,: https://thesai.org/Downloads/Volume11No7/Paper_53-Method_for_Automatically_Processing_Outliers.pdf\n",
    "- Bengtsson, F., & Lindblad , K. (2020). Methods for handling missing values. Obtenido de UPPSALA UNIVERSITET: https://www.diva-portal.org/smash/get/diva2:1520218/FULLTEXT01.pdf\n",
    "- Camacho, M., Wilms, M., Almgren, H., Amador, K., Camicioli, R., Ismail, Z., Monchi, O., & Forkert, N. D. (2024). Exploiting macro- and micro-structural brain changes for improved Parkinson’s disease classification from MRI data. Npj Parkinson’s Disease, 10(1). https://doi.org/10.1038/s41531-024-00647-9\n",
    "- CDC. (17 de Noviembre de 2021). Salud de los pulmones. Obtenido de Centros para el control y la prevención de enfermedades: https://www.cdc.gov/marijuana/health-effects/es/lung-health.html\n",
    "- EvidentlyAI. (s. f.). Accuracy vs. precision vs. recall in machine learning: what’s the difference? Recuperado 31 de marzo de 2024, de https://www.evidentlyai.com/classification-metrics/accuracy-precision-recall#:~\n",
    "- Humphries, M. (2015). Missing Data & How to Deal: An overview of missing data. Obtenido de University of Texas: https://minio.la.utexas.edu/webeditor-files/prc/pdf/missing-data.pdf\n",
    "- Imbalanced Learn. (s. f.). Over-sampling. Recuperado 31 de marzo de 2024, de https://imbalanced-learn.org/stable/over_sampling.html\n",
    "- Imbalanced Learn. (s. f.). Under-sampling. Recuperado 31 de marzo de 2024, de https://imbalanced-learn.org/stable/under_sampling.html\n",
    "- InteractiveChaos. (03 de Diciembre de 2018). Comprobación del tipo de las columnas de un dataframe. Obtenido de Interactive Chaos: https://interactivechaos.com/es/python/scenario/comprobacion-del-tipo-de-las-columnas-de-un-dataframe\n",
    "- Interactivechaos. (16 de Enero de 2021). numpy.nan. Obtenido de Interactivechaos: https://interactivechaos.com/es/python/function/numpynan\n",
    "- Kocak, B., Kus, E.A. & Kilickesmez, O. How to read and review papers on machine learning and artificial intelligence in radiology: a survival guide to key methodological concepts. Eur Radiol 31, 1819–1830 (2021). https://doi.org/10.1007/s00330-020-07324-4\n",
    "- Kotsiantis, S., Kanellopoulos, D., & Pintelas, P. (2006). Handling imbalanced datasets: A review. GESTS international transactions on computer science and engineering, 30(1), 25-36.\n",
    "- Mountassir, A., Benbrahim, H., & Berrada, I. (2012, October). An empirical study to address the problem of unbalanced data sets in sentiment classification. In 2012 IEEE international conference on systems, man, and cybernetics (SMC) (pp. 3298-3303). IEEE.\n",
    "- Ramyachitra, D., & Manikandan, P. (2014). Imbalanced dataset classification and solutions: a review. International Journal of Computing and Business Research (IJCBR), 5(4), 1-29.\n",
    "- Saini, M. (2023, 20 junio). Understanding Performance Metrics in Machine Learning: Precision, Recall, F1 Score, Confusion Matrix, and AUC ROC with an example. https://www.linkedin.com/pulse/understanding-performance-metrics-machine-learning-precision-saini#:~"
   ]
  },
  {
   "cell_type": "code",
   "execution_count": null,
   "id": "931b8dfb",
   "metadata": {},
   "outputs": [],
   "source": []
  },
  {
   "cell_type": "code",
   "execution_count": null,
   "id": "e3c972b8",
   "metadata": {},
   "outputs": [],
   "source": []
  }
 ],
 "metadata": {
  "kernelspec": {
   "display_name": "Python 3 (ipykernel)",
   "language": "python",
   "name": "python3"
  },
  "language_info": {
   "codemirror_mode": {
    "name": "ipython",
    "version": 3
   },
   "file_extension": ".py",
   "mimetype": "text/x-python",
   "name": "python",
   "nbconvert_exporter": "python",
   "pygments_lexer": "ipython3",
   "version": "3.9.7"
  }
 },
 "nbformat": 4,
 "nbformat_minor": 5
}
